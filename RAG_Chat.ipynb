{
  "nbformat": 4,
  "nbformat_minor": 0,
  "metadata": {
    "colab": {
      "provenance": [],
      "authorship_tag": "ABX9TyPgmJrTudOl9HZEsQL43DRq",
      "include_colab_link": true
    },
    "kernelspec": {
      "name": "python3",
      "display_name": "Python 3"
    },
    "language_info": {
      "name": "python"
    }
  },
  "cells": [
    {
      "cell_type": "markdown",
      "metadata": {
        "id": "view-in-github",
        "colab_type": "text"
      },
      "source": [
        "<a href=\"https://colab.research.google.com/github/jifanizz/rag-llm/blob/master/RAG_Chat.ipynb\" target=\"_parent\"><img src=\"https://colab.research.google.com/assets/colab-badge.svg\" alt=\"Open In Colab\"/></a>"
      ]
    },
    {
      "cell_type": "code",
      "execution_count": 6,
      "metadata": {
        "colab": {
          "base_uri": "https://localhost:8080/"
        },
        "id": "OWS71Q_VF-Nq",
        "outputId": "420869b2-22da-419a-82d1-a20b067836c8"
      },
      "outputs": [
        {
          "output_type": "stream",
          "name": "stdout",
          "text": [
            "Collecting langchain\n",
            "  Downloading langchain-0.1.5-py3-none-any.whl (806 kB)\n",
            "\u001b[2K     \u001b[90m━━━━━━━━━━━━━━━━━━━━━━━━━━━━━━━━━━━━━━━━\u001b[0m \u001b[32m806.7/806.7 kB\u001b[0m \u001b[31m7.2 MB/s\u001b[0m eta \u001b[36m0:00:00\u001b[0m\n",
            "\u001b[?25hCollecting sentence-transformers\n",
            "  Downloading sentence_transformers-2.3.1-py3-none-any.whl (132 kB)\n",
            "\u001b[2K     \u001b[90m━━━━━━━━━━━━━━━━━━━━━━━━━━━━━━━━━━━━━━━━\u001b[0m \u001b[32m132.8/132.8 kB\u001b[0m \u001b[31m10.2 MB/s\u001b[0m eta \u001b[36m0:00:00\u001b[0m\n",
            "\u001b[?25hCollecting chromadb\n",
            "  Downloading chromadb-0.4.22-py3-none-any.whl (509 kB)\n",
            "\u001b[2K     \u001b[90m━━━━━━━━━━━━━━━━━━━━━━━━━━━━━━━━━━━━━━━━\u001b[0m \u001b[32m509.0/509.0 kB\u001b[0m \u001b[31m10.3 MB/s\u001b[0m eta \u001b[36m0:00:00\u001b[0m\n",
            "\u001b[?25hRequirement already satisfied: PyYAML>=5.3 in /usr/local/lib/python3.10/dist-packages (from langchain) (6.0.1)\n",
            "Requirement already satisfied: SQLAlchemy<3,>=1.4 in /usr/local/lib/python3.10/dist-packages (from langchain) (2.0.25)\n",
            "Requirement already satisfied: aiohttp<4.0.0,>=3.8.3 in /usr/local/lib/python3.10/dist-packages (from langchain) (3.9.3)\n",
            "Requirement already satisfied: async-timeout<5.0.0,>=4.0.0 in /usr/local/lib/python3.10/dist-packages (from langchain) (4.0.3)\n",
            "Collecting dataclasses-json<0.7,>=0.5.7 (from langchain)\n",
            "  Downloading dataclasses_json-0.6.4-py3-none-any.whl (28 kB)\n",
            "Collecting jsonpatch<2.0,>=1.33 (from langchain)\n",
            "  Downloading jsonpatch-1.33-py2.py3-none-any.whl (12 kB)\n",
            "Collecting langchain-community<0.1,>=0.0.17 (from langchain)\n",
            "  Downloading langchain_community-0.0.19-py3-none-any.whl (1.6 MB)\n",
            "\u001b[2K     \u001b[90m━━━━━━━━━━━━━━━━━━━━━━━━━━━━━━━━━━━━━━━━\u001b[0m \u001b[32m1.6/1.6 MB\u001b[0m \u001b[31m13.7 MB/s\u001b[0m eta \u001b[36m0:00:00\u001b[0m\n",
            "\u001b[?25hCollecting langchain-core<0.2,>=0.1.16 (from langchain)\n",
            "  Downloading langchain_core-0.1.21-py3-none-any.whl (238 kB)\n",
            "\u001b[2K     \u001b[90m━━━━━━━━━━━━━━━━━━━━━━━━━━━━━━━━━━━━━━━━\u001b[0m \u001b[32m238.5/238.5 kB\u001b[0m \u001b[31m16.5 MB/s\u001b[0m eta \u001b[36m0:00:00\u001b[0m\n",
            "\u001b[?25hCollecting langsmith<0.1,>=0.0.83 (from langchain)\n",
            "  Downloading langsmith-0.0.87-py3-none-any.whl (55 kB)\n",
            "\u001b[2K     \u001b[90m━━━━━━━━━━━━━━━━━━━━━━━━━━━━━━━━━━━━━━━━\u001b[0m \u001b[32m55.4/55.4 kB\u001b[0m \u001b[31m6.4 MB/s\u001b[0m eta \u001b[36m0:00:00\u001b[0m\n",
            "\u001b[?25hRequirement already satisfied: numpy<2,>=1 in /usr/local/lib/python3.10/dist-packages (from langchain) (1.23.5)\n",
            "Requirement already satisfied: pydantic<3,>=1 in /usr/local/lib/python3.10/dist-packages (from langchain) (2.6.0)\n",
            "Requirement already satisfied: requests<3,>=2 in /usr/local/lib/python3.10/dist-packages (from langchain) (2.31.0)\n",
            "Requirement already satisfied: tenacity<9.0.0,>=8.1.0 in /usr/local/lib/python3.10/dist-packages (from langchain) (8.2.3)\n",
            "Requirement already satisfied: transformers<5.0.0,>=4.32.0 in /usr/local/lib/python3.10/dist-packages (from sentence-transformers) (4.35.2)\n",
            "Requirement already satisfied: tqdm in /usr/local/lib/python3.10/dist-packages (from sentence-transformers) (4.66.1)\n",
            "Requirement already satisfied: torch>=1.11.0 in /usr/local/lib/python3.10/dist-packages (from sentence-transformers) (2.1.0+cu121)\n",
            "Requirement already satisfied: scikit-learn in /usr/local/lib/python3.10/dist-packages (from sentence-transformers) (1.2.2)\n",
            "Requirement already satisfied: scipy in /usr/local/lib/python3.10/dist-packages (from sentence-transformers) (1.11.4)\n",
            "Requirement already satisfied: nltk in /usr/local/lib/python3.10/dist-packages (from sentence-transformers) (3.8.1)\n",
            "Requirement already satisfied: sentencepiece in /usr/local/lib/python3.10/dist-packages (from sentence-transformers) (0.1.99)\n",
            "Requirement already satisfied: huggingface-hub>=0.15.1 in /usr/local/lib/python3.10/dist-packages (from sentence-transformers) (0.20.3)\n",
            "Requirement already satisfied: Pillow in /usr/local/lib/python3.10/dist-packages (from sentence-transformers) (9.4.0)\n",
            "Requirement already satisfied: build>=1.0.3 in /usr/local/lib/python3.10/dist-packages (from chromadb) (1.0.3)\n",
            "Collecting chroma-hnswlib==0.7.3 (from chromadb)\n",
            "  Downloading chroma_hnswlib-0.7.3-cp310-cp310-manylinux_2_17_x86_64.manylinux2014_x86_64.whl (2.4 MB)\n",
            "\u001b[2K     \u001b[90m━━━━━━━━━━━━━━━━━━━━━━━━━━━━━━━━━━━━━━━━\u001b[0m \u001b[32m2.4/2.4 MB\u001b[0m \u001b[31m19.7 MB/s\u001b[0m eta \u001b[36m0:00:00\u001b[0m\n",
            "\u001b[?25hCollecting fastapi>=0.95.2 (from chromadb)\n",
            "  Downloading fastapi-0.109.2-py3-none-any.whl (92 kB)\n",
            "\u001b[2K     \u001b[90m━━━━━━━━━━━━━━━━━━━━━━━━━━━━━━━━━━━━━━━━\u001b[0m \u001b[32m92.1/92.1 kB\u001b[0m \u001b[31m9.4 MB/s\u001b[0m eta \u001b[36m0:00:00\u001b[0m\n",
            "\u001b[?25hCollecting uvicorn[standard]>=0.18.3 (from chromadb)\n",
            "  Downloading uvicorn-0.27.0.post1-py3-none-any.whl (60 kB)\n",
            "\u001b[2K     \u001b[90m━━━━━━━━━━━━━━━━━━━━━━━━━━━━━━━━━━━━━━━━\u001b[0m \u001b[32m60.7/60.7 kB\u001b[0m \u001b[31m6.3 MB/s\u001b[0m eta \u001b[36m0:00:00\u001b[0m\n",
            "\u001b[?25hCollecting posthog>=2.4.0 (from chromadb)\n",
            "  Downloading posthog-3.4.0-py2.py3-none-any.whl (41 kB)\n",
            "\u001b[2K     \u001b[90m━━━━━━━━━━━━━━━━━━━━━━━━━━━━━━━━━━━━━━━━\u001b[0m \u001b[32m41.1/41.1 kB\u001b[0m \u001b[31m4.1 MB/s\u001b[0m eta \u001b[36m0:00:00\u001b[0m\n",
            "\u001b[?25hRequirement already satisfied: typing-extensions>=4.5.0 in /usr/local/lib/python3.10/dist-packages (from chromadb) (4.9.0)\n",
            "Collecting pulsar-client>=3.1.0 (from chromadb)\n",
            "  Downloading pulsar_client-3.4.0-cp310-cp310-manylinux_2_17_x86_64.manylinux2014_x86_64.whl (5.4 MB)\n",
            "\u001b[2K     \u001b[90m━━━━━━━━━━━━━━━━━━━━━━━━━━━━━━━━━━━━━━━━\u001b[0m \u001b[32m5.4/5.4 MB\u001b[0m \u001b[31m28.1 MB/s\u001b[0m eta \u001b[36m0:00:00\u001b[0m\n",
            "\u001b[?25hCollecting onnxruntime>=1.14.1 (from chromadb)\n",
            "  Downloading onnxruntime-1.17.0-cp310-cp310-manylinux_2_27_x86_64.manylinux_2_28_x86_64.whl (6.8 MB)\n",
            "\u001b[2K     \u001b[90m━━━━━━━━━━━━━━━━━━━━━━━━━━━━━━━━━━━━━━━━\u001b[0m \u001b[32m6.8/6.8 MB\u001b[0m \u001b[31m42.0 MB/s\u001b[0m eta \u001b[36m0:00:00\u001b[0m\n",
            "\u001b[?25hCollecting opentelemetry-api>=1.2.0 (from chromadb)\n",
            "  Downloading opentelemetry_api-1.22.0-py3-none-any.whl (57 kB)\n",
            "\u001b[2K     \u001b[90m━━━━━━━━━━━━━━━━━━━━━━━━━━━━━━━━━━━━━━━━\u001b[0m \u001b[32m57.9/57.9 kB\u001b[0m \u001b[31m7.6 MB/s\u001b[0m eta \u001b[36m0:00:00\u001b[0m\n",
            "\u001b[?25hCollecting opentelemetry-exporter-otlp-proto-grpc>=1.2.0 (from chromadb)\n",
            "  Downloading opentelemetry_exporter_otlp_proto_grpc-1.22.0-py3-none-any.whl (18 kB)\n",
            "Collecting opentelemetry-instrumentation-fastapi>=0.41b0 (from chromadb)\n",
            "  Downloading opentelemetry_instrumentation_fastapi-0.43b0-py3-none-any.whl (11 kB)\n",
            "Collecting opentelemetry-sdk>=1.2.0 (from chromadb)\n",
            "  Downloading opentelemetry_sdk-1.22.0-py3-none-any.whl (105 kB)\n",
            "\u001b[2K     \u001b[90m━━━━━━━━━━━━━━━━━━━━━━━━━━━━━━━━━━━━━━━━\u001b[0m \u001b[32m105.6/105.6 kB\u001b[0m \u001b[31m10.4 MB/s\u001b[0m eta \u001b[36m0:00:00\u001b[0m\n",
            "\u001b[?25hRequirement already satisfied: tokenizers>=0.13.2 in /usr/local/lib/python3.10/dist-packages (from chromadb) (0.15.1)\n",
            "Collecting pypika>=0.48.9 (from chromadb)\n",
            "  Downloading PyPika-0.48.9.tar.gz (67 kB)\n",
            "\u001b[2K     \u001b[90m━━━━━━━━━━━━━━━━━━━━━━━━━━━━━━━━━━━━━━━━\u001b[0m \u001b[32m67.3/67.3 kB\u001b[0m \u001b[31m6.9 MB/s\u001b[0m eta \u001b[36m0:00:00\u001b[0m\n",
            "\u001b[?25h  Installing build dependencies ... \u001b[?25l\u001b[?25hdone\n",
            "  Getting requirements to build wheel ... \u001b[?25l\u001b[?25hdone\n",
            "  Preparing metadata (pyproject.toml) ... \u001b[?25l\u001b[?25hdone\n",
            "Collecting overrides>=7.3.1 (from chromadb)\n",
            "  Downloading overrides-7.7.0-py3-none-any.whl (17 kB)\n",
            "Requirement already satisfied: importlib-resources in /usr/local/lib/python3.10/dist-packages (from chromadb) (6.1.1)\n",
            "Requirement already satisfied: grpcio>=1.58.0 in /usr/local/lib/python3.10/dist-packages (from chromadb) (1.60.1)\n",
            "Collecting bcrypt>=4.0.1 (from chromadb)\n",
            "  Downloading bcrypt-4.1.2-cp39-abi3-manylinux_2_28_x86_64.whl (698 kB)\n",
            "\u001b[2K     \u001b[90m━━━━━━━━━━━━━━━━━━━━━━━━━━━━━━━━━━━━━━━━\u001b[0m \u001b[32m698.9/698.9 kB\u001b[0m \u001b[31m46.8 MB/s\u001b[0m eta \u001b[36m0:00:00\u001b[0m\n",
            "\u001b[?25hRequirement already satisfied: typer>=0.9.0 in /usr/local/lib/python3.10/dist-packages (from chromadb) (0.9.0)\n",
            "Collecting kubernetes>=28.1.0 (from chromadb)\n",
            "  Downloading kubernetes-29.0.0-py2.py3-none-any.whl (1.6 MB)\n",
            "\u001b[2K     \u001b[90m━━━━━━━━━━━━━━━━━━━━━━━━━━━━━━━━━━━━━━━━\u001b[0m \u001b[32m1.6/1.6 MB\u001b[0m \u001b[31m48.1 MB/s\u001b[0m eta \u001b[36m0:00:00\u001b[0m\n",
            "\u001b[?25hCollecting mmh3>=4.0.1 (from chromadb)\n",
            "  Downloading mmh3-4.1.0-cp310-cp310-manylinux_2_5_x86_64.manylinux1_x86_64.manylinux_2_17_x86_64.manylinux2014_x86_64.whl (67 kB)\n",
            "\u001b[2K     \u001b[90m━━━━━━━━━━━━━━━━━━━━━━━━━━━━━━━━━━━━━━━━\u001b[0m \u001b[32m67.6/67.6 kB\u001b[0m \u001b[31m7.0 MB/s\u001b[0m eta \u001b[36m0:00:00\u001b[0m\n",
            "\u001b[?25hRequirement already satisfied: aiosignal>=1.1.2 in /usr/local/lib/python3.10/dist-packages (from aiohttp<4.0.0,>=3.8.3->langchain) (1.3.1)\n",
            "Requirement already satisfied: attrs>=17.3.0 in /usr/local/lib/python3.10/dist-packages (from aiohttp<4.0.0,>=3.8.3->langchain) (23.2.0)\n",
            "Requirement already satisfied: frozenlist>=1.1.1 in /usr/local/lib/python3.10/dist-packages (from aiohttp<4.0.0,>=3.8.3->langchain) (1.4.1)\n",
            "Requirement already satisfied: multidict<7.0,>=4.5 in /usr/local/lib/python3.10/dist-packages (from aiohttp<4.0.0,>=3.8.3->langchain) (6.0.5)\n",
            "Requirement already satisfied: yarl<2.0,>=1.0 in /usr/local/lib/python3.10/dist-packages (from aiohttp<4.0.0,>=3.8.3->langchain) (1.9.4)\n",
            "Requirement already satisfied: packaging>=19.0 in /usr/local/lib/python3.10/dist-packages (from build>=1.0.3->chromadb) (23.2)\n",
            "Requirement already satisfied: pyproject_hooks in /usr/local/lib/python3.10/dist-packages (from build>=1.0.3->chromadb) (1.0.0)\n",
            "Requirement already satisfied: tomli>=1.1.0 in /usr/local/lib/python3.10/dist-packages (from build>=1.0.3->chromadb) (2.0.1)\n",
            "Collecting marshmallow<4.0.0,>=3.18.0 (from dataclasses-json<0.7,>=0.5.7->langchain)\n",
            "  Downloading marshmallow-3.20.2-py3-none-any.whl (49 kB)\n",
            "\u001b[2K     \u001b[90m━━━━━━━━━━━━━━━━━━━━━━━━━━━━━━━━━━━━━━━━\u001b[0m \u001b[32m49.4/49.4 kB\u001b[0m \u001b[31m5.3 MB/s\u001b[0m eta \u001b[36m0:00:00\u001b[0m\n",
            "\u001b[?25hCollecting typing-inspect<1,>=0.4.0 (from dataclasses-json<0.7,>=0.5.7->langchain)\n",
            "  Downloading typing_inspect-0.9.0-py3-none-any.whl (8.8 kB)\n",
            "Collecting starlette<0.37.0,>=0.36.3 (from fastapi>=0.95.2->chromadb)\n",
            "  Downloading starlette-0.36.3-py3-none-any.whl (71 kB)\n",
            "\u001b[2K     \u001b[90m━━━━━━━━━━━━━━━━━━━━━━━━━━━━━━━━━━━━━━━━\u001b[0m \u001b[32m71.5/71.5 kB\u001b[0m \u001b[31m7.8 MB/s\u001b[0m eta \u001b[36m0:00:00\u001b[0m\n",
            "\u001b[?25hRequirement already satisfied: filelock in /usr/local/lib/python3.10/dist-packages (from huggingface-hub>=0.15.1->sentence-transformers) (3.13.1)\n",
            "Requirement already satisfied: fsspec>=2023.5.0 in /usr/local/lib/python3.10/dist-packages (from huggingface-hub>=0.15.1->sentence-transformers) (2023.6.0)\n",
            "Collecting jsonpointer>=1.9 (from jsonpatch<2.0,>=1.33->langchain)\n",
            "  Downloading jsonpointer-2.4-py2.py3-none-any.whl (7.8 kB)\n",
            "Requirement already satisfied: certifi>=14.05.14 in /usr/local/lib/python3.10/dist-packages (from kubernetes>=28.1.0->chromadb) (2024.2.2)\n",
            "Requirement already satisfied: six>=1.9.0 in /usr/local/lib/python3.10/dist-packages (from kubernetes>=28.1.0->chromadb) (1.16.0)\n",
            "Requirement already satisfied: python-dateutil>=2.5.3 in /usr/local/lib/python3.10/dist-packages (from kubernetes>=28.1.0->chromadb) (2.8.2)\n",
            "Requirement already satisfied: google-auth>=1.0.1 in /usr/local/lib/python3.10/dist-packages (from kubernetes>=28.1.0->chromadb) (2.17.3)\n",
            "Requirement already satisfied: websocket-client!=0.40.0,!=0.41.*,!=0.42.*,>=0.32.0 in /usr/local/lib/python3.10/dist-packages (from kubernetes>=28.1.0->chromadb) (1.7.0)\n",
            "Requirement already satisfied: requests-oauthlib in /usr/local/lib/python3.10/dist-packages (from kubernetes>=28.1.0->chromadb) (1.3.1)\n",
            "Requirement already satisfied: oauthlib>=3.2.2 in /usr/local/lib/python3.10/dist-packages (from kubernetes>=28.1.0->chromadb) (3.2.2)\n",
            "Requirement already satisfied: urllib3>=1.24.2 in /usr/local/lib/python3.10/dist-packages (from kubernetes>=28.1.0->chromadb) (2.0.7)\n",
            "Requirement already satisfied: anyio<5,>=3 in /usr/local/lib/python3.10/dist-packages (from langchain-core<0.2,>=0.1.16->langchain) (3.7.1)\n",
            "Collecting coloredlogs (from onnxruntime>=1.14.1->chromadb)\n",
            "  Downloading coloredlogs-15.0.1-py2.py3-none-any.whl (46 kB)\n",
            "\u001b[2K     \u001b[90m━━━━━━━━━━━━━━━━━━━━━━━━━━━━━━━━━━━━━━━━\u001b[0m \u001b[32m46.0/46.0 kB\u001b[0m \u001b[31m5.2 MB/s\u001b[0m eta \u001b[36m0:00:00\u001b[0m\n",
            "\u001b[?25hRequirement already satisfied: flatbuffers in /usr/local/lib/python3.10/dist-packages (from onnxruntime>=1.14.1->chromadb) (23.5.26)\n",
            "Requirement already satisfied: protobuf in /usr/local/lib/python3.10/dist-packages (from onnxruntime>=1.14.1->chromadb) (3.20.3)\n",
            "Requirement already satisfied: sympy in /usr/local/lib/python3.10/dist-packages (from onnxruntime>=1.14.1->chromadb) (1.12)\n",
            "Collecting deprecated>=1.2.6 (from opentelemetry-api>=1.2.0->chromadb)\n",
            "  Downloading Deprecated-1.2.14-py2.py3-none-any.whl (9.6 kB)\n",
            "Collecting importlib-metadata<7.0,>=6.0 (from opentelemetry-api>=1.2.0->chromadb)\n",
            "  Downloading importlib_metadata-6.11.0-py3-none-any.whl (23 kB)\n",
            "Collecting backoff<3.0.0,>=1.10.0 (from opentelemetry-exporter-otlp-proto-grpc>=1.2.0->chromadb)\n",
            "  Downloading backoff-2.2.1-py3-none-any.whl (15 kB)\n",
            "Requirement already satisfied: googleapis-common-protos~=1.52 in /usr/local/lib/python3.10/dist-packages (from opentelemetry-exporter-otlp-proto-grpc>=1.2.0->chromadb) (1.62.0)\n",
            "Collecting opentelemetry-exporter-otlp-proto-common==1.22.0 (from opentelemetry-exporter-otlp-proto-grpc>=1.2.0->chromadb)\n",
            "  Downloading opentelemetry_exporter_otlp_proto_common-1.22.0-py3-none-any.whl (17 kB)\n",
            "Collecting opentelemetry-proto==1.22.0 (from opentelemetry-exporter-otlp-proto-grpc>=1.2.0->chromadb)\n",
            "  Downloading opentelemetry_proto-1.22.0-py3-none-any.whl (50 kB)\n",
            "\u001b[2K     \u001b[90m━━━━━━━━━━━━━━━━━━━━━━━━━━━━━━━━━━━━━━━━\u001b[0m \u001b[32m50.8/50.8 kB\u001b[0m \u001b[31m5.0 MB/s\u001b[0m eta \u001b[36m0:00:00\u001b[0m\n",
            "\u001b[?25hCollecting opentelemetry-instrumentation-asgi==0.43b0 (from opentelemetry-instrumentation-fastapi>=0.41b0->chromadb)\n",
            "  Downloading opentelemetry_instrumentation_asgi-0.43b0-py3-none-any.whl (14 kB)\n",
            "Collecting opentelemetry-instrumentation==0.43b0 (from opentelemetry-instrumentation-fastapi>=0.41b0->chromadb)\n",
            "  Downloading opentelemetry_instrumentation-0.43b0-py3-none-any.whl (28 kB)\n",
            "Collecting opentelemetry-semantic-conventions==0.43b0 (from opentelemetry-instrumentation-fastapi>=0.41b0->chromadb)\n",
            "  Downloading opentelemetry_semantic_conventions-0.43b0-py3-none-any.whl (36 kB)\n",
            "Collecting opentelemetry-util-http==0.43b0 (from opentelemetry-instrumentation-fastapi>=0.41b0->chromadb)\n",
            "  Downloading opentelemetry_util_http-0.43b0-py3-none-any.whl (6.9 kB)\n",
            "Requirement already satisfied: setuptools>=16.0 in /usr/local/lib/python3.10/dist-packages (from opentelemetry-instrumentation==0.43b0->opentelemetry-instrumentation-fastapi>=0.41b0->chromadb) (67.7.2)\n",
            "Requirement already satisfied: wrapt<2.0.0,>=1.0.0 in /usr/local/lib/python3.10/dist-packages (from opentelemetry-instrumentation==0.43b0->opentelemetry-instrumentation-fastapi>=0.41b0->chromadb) (1.14.1)\n",
            "Collecting asgiref~=3.0 (from opentelemetry-instrumentation-asgi==0.43b0->opentelemetry-instrumentation-fastapi>=0.41b0->chromadb)\n",
            "  Downloading asgiref-3.7.2-py3-none-any.whl (24 kB)\n",
            "Collecting monotonic>=1.5 (from posthog>=2.4.0->chromadb)\n",
            "  Downloading monotonic-1.6-py2.py3-none-any.whl (8.2 kB)\n",
            "Requirement already satisfied: annotated-types>=0.4.0 in /usr/local/lib/python3.10/dist-packages (from pydantic<3,>=1->langchain) (0.6.0)\n",
            "Requirement already satisfied: pydantic-core==2.16.1 in /usr/local/lib/python3.10/dist-packages (from pydantic<3,>=1->langchain) (2.16.1)\n",
            "Requirement already satisfied: charset-normalizer<4,>=2 in /usr/local/lib/python3.10/dist-packages (from requests<3,>=2->langchain) (3.3.2)\n",
            "Requirement already satisfied: idna<4,>=2.5 in /usr/local/lib/python3.10/dist-packages (from requests<3,>=2->langchain) (3.6)\n",
            "Requirement already satisfied: greenlet!=0.4.17 in /usr/local/lib/python3.10/dist-packages (from SQLAlchemy<3,>=1.4->langchain) (3.0.3)\n",
            "Requirement already satisfied: networkx in /usr/local/lib/python3.10/dist-packages (from torch>=1.11.0->sentence-transformers) (3.2.1)\n",
            "Requirement already satisfied: jinja2 in /usr/local/lib/python3.10/dist-packages (from torch>=1.11.0->sentence-transformers) (3.1.3)\n",
            "Requirement already satisfied: triton==2.1.0 in /usr/local/lib/python3.10/dist-packages (from torch>=1.11.0->sentence-transformers) (2.1.0)\n",
            "Requirement already satisfied: regex!=2019.12.17 in /usr/local/lib/python3.10/dist-packages (from transformers<5.0.0,>=4.32.0->sentence-transformers) (2023.12.25)\n",
            "Requirement already satisfied: safetensors>=0.3.1 in /usr/local/lib/python3.10/dist-packages (from transformers<5.0.0,>=4.32.0->sentence-transformers) (0.4.2)\n",
            "Requirement already satisfied: click<9.0.0,>=7.1.1 in /usr/local/lib/python3.10/dist-packages (from typer>=0.9.0->chromadb) (8.1.7)\n",
            "Collecting h11>=0.8 (from uvicorn[standard]>=0.18.3->chromadb)\n",
            "  Downloading h11-0.14.0-py3-none-any.whl (58 kB)\n",
            "\u001b[2K     \u001b[90m━━━━━━━━━━━━━━━━━━━━━━━━━━━━━━━━━━━━━━━━\u001b[0m \u001b[32m58.3/58.3 kB\u001b[0m \u001b[31m4.8 MB/s\u001b[0m eta \u001b[36m0:00:00\u001b[0m\n",
            "\u001b[?25hCollecting httptools>=0.5.0 (from uvicorn[standard]>=0.18.3->chromadb)\n",
            "  Downloading httptools-0.6.1-cp310-cp310-manylinux_2_5_x86_64.manylinux1_x86_64.manylinux_2_17_x86_64.manylinux2014_x86_64.whl (341 kB)\n",
            "\u001b[2K     \u001b[90m━━━━━━━━━━━━━━━━━━━━━━━━━━━━━━━━━━━━━━━━\u001b[0m \u001b[32m341.4/341.4 kB\u001b[0m \u001b[31m31.5 MB/s\u001b[0m eta \u001b[36m0:00:00\u001b[0m\n",
            "\u001b[?25hCollecting python-dotenv>=0.13 (from uvicorn[standard]>=0.18.3->chromadb)\n",
            "  Downloading python_dotenv-1.0.1-py3-none-any.whl (19 kB)\n",
            "Collecting uvloop!=0.15.0,!=0.15.1,>=0.14.0 (from uvicorn[standard]>=0.18.3->chromadb)\n",
            "  Downloading uvloop-0.19.0-cp310-cp310-manylinux_2_17_x86_64.manylinux2014_x86_64.whl (3.4 MB)\n",
            "\u001b[2K     \u001b[90m━━━━━━━━━━━━━━━━━━━━━━━━━━━━━━━━━━━━━━━━\u001b[0m \u001b[32m3.4/3.4 MB\u001b[0m \u001b[31m54.3 MB/s\u001b[0m eta \u001b[36m0:00:00\u001b[0m\n",
            "\u001b[?25hCollecting watchfiles>=0.13 (from uvicorn[standard]>=0.18.3->chromadb)\n",
            "  Downloading watchfiles-0.21.0-cp310-cp310-manylinux_2_17_x86_64.manylinux2014_x86_64.whl (1.3 MB)\n",
            "\u001b[2K     \u001b[90m━━━━━━━━━━━━━━━━━━━━━━━━━━━━━━━━━━━━━━━━\u001b[0m \u001b[32m1.3/1.3 MB\u001b[0m \u001b[31m56.0 MB/s\u001b[0m eta \u001b[36m0:00:00\u001b[0m\n",
            "\u001b[?25hCollecting websockets>=10.4 (from uvicorn[standard]>=0.18.3->chromadb)\n",
            "  Downloading websockets-12.0-cp310-cp310-manylinux_2_5_x86_64.manylinux1_x86_64.manylinux_2_17_x86_64.manylinux2014_x86_64.whl (130 kB)\n",
            "\u001b[2K     \u001b[90m━━━━━━━━━━━━━━━━━━━━━━━━━━━━━━━━━━━━━━━━\u001b[0m \u001b[32m130.2/130.2 kB\u001b[0m \u001b[31m14.7 MB/s\u001b[0m eta \u001b[36m0:00:00\u001b[0m\n",
            "\u001b[?25hRequirement already satisfied: joblib in /usr/local/lib/python3.10/dist-packages (from nltk->sentence-transformers) (1.3.2)\n",
            "Requirement already satisfied: threadpoolctl>=2.0.0 in /usr/local/lib/python3.10/dist-packages (from scikit-learn->sentence-transformers) (3.2.0)\n",
            "Requirement already satisfied: sniffio>=1.1 in /usr/local/lib/python3.10/dist-packages (from anyio<5,>=3->langchain-core<0.2,>=0.1.16->langchain) (1.3.0)\n",
            "Requirement already satisfied: exceptiongroup in /usr/local/lib/python3.10/dist-packages (from anyio<5,>=3->langchain-core<0.2,>=0.1.16->langchain) (1.2.0)\n",
            "Requirement already satisfied: cachetools<6.0,>=2.0.0 in /usr/local/lib/python3.10/dist-packages (from google-auth>=1.0.1->kubernetes>=28.1.0->chromadb) (5.3.2)\n",
            "Requirement already satisfied: pyasn1-modules>=0.2.1 in /usr/local/lib/python3.10/dist-packages (from google-auth>=1.0.1->kubernetes>=28.1.0->chromadb) (0.3.0)\n",
            "Requirement already satisfied: rsa<5,>=3.1.4 in /usr/local/lib/python3.10/dist-packages (from google-auth>=1.0.1->kubernetes>=28.1.0->chromadb) (4.9)\n",
            "Requirement already satisfied: zipp>=0.5 in /usr/local/lib/python3.10/dist-packages (from importlib-metadata<7.0,>=6.0->opentelemetry-api>=1.2.0->chromadb) (3.17.0)\n",
            "Collecting mypy-extensions>=0.3.0 (from typing-inspect<1,>=0.4.0->dataclasses-json<0.7,>=0.5.7->langchain)\n",
            "  Downloading mypy_extensions-1.0.0-py3-none-any.whl (4.7 kB)\n",
            "Collecting humanfriendly>=9.1 (from coloredlogs->onnxruntime>=1.14.1->chromadb)\n",
            "  Downloading humanfriendly-10.0-py2.py3-none-any.whl (86 kB)\n",
            "\u001b[2K     \u001b[90m━━━━━━━━━━━━━━━━━━━━━━━━━━━━━━━━━━━━━━━━\u001b[0m \u001b[32m86.8/86.8 kB\u001b[0m \u001b[31m9.0 MB/s\u001b[0m eta \u001b[36m0:00:00\u001b[0m\n",
            "\u001b[?25hRequirement already satisfied: MarkupSafe>=2.0 in /usr/local/lib/python3.10/dist-packages (from jinja2->torch>=1.11.0->sentence-transformers) (2.1.5)\n",
            "Requirement already satisfied: mpmath>=0.19 in /usr/local/lib/python3.10/dist-packages (from sympy->onnxruntime>=1.14.1->chromadb) (1.3.0)\n",
            "Requirement already satisfied: pyasn1<0.6.0,>=0.4.6 in /usr/local/lib/python3.10/dist-packages (from pyasn1-modules>=0.2.1->google-auth>=1.0.1->kubernetes>=28.1.0->chromadb) (0.5.1)\n",
            "Building wheels for collected packages: pypika\n",
            "  Building wheel for pypika (pyproject.toml) ... \u001b[?25l\u001b[?25hdone\n",
            "  Created wheel for pypika: filename=PyPika-0.48.9-py2.py3-none-any.whl size=53723 sha256=700598a373448d4c303bc97b7068f537d010fa891dd99dcaaa9ae59ad3c20c06\n",
            "  Stored in directory: /root/.cache/pip/wheels/e1/26/51/d0bffb3d2fd82256676d7ad3003faea3bd6dddc9577af665f4\n",
            "Successfully built pypika\n",
            "Installing collected packages: pypika, monotonic, mmh3, websockets, uvloop, python-dotenv, pulsar-client, overrides, opentelemetry-util-http, opentelemetry-semantic-conventions, opentelemetry-proto, mypy-extensions, marshmallow, jsonpointer, importlib-metadata, humanfriendly, httptools, h11, deprecated, chroma-hnswlib, bcrypt, backoff, asgiref, watchfiles, uvicorn, typing-inspect, starlette, posthog, opentelemetry-exporter-otlp-proto-common, opentelemetry-api, jsonpatch, coloredlogs, opentelemetry-sdk, opentelemetry-instrumentation, onnxruntime, langsmith, kubernetes, fastapi, dataclasses-json, opentelemetry-instrumentation-asgi, opentelemetry-exporter-otlp-proto-grpc, langchain-core, sentence-transformers, opentelemetry-instrumentation-fastapi, langchain-community, langchain, chromadb\n",
            "  Attempting uninstall: importlib-metadata\n",
            "    Found existing installation: importlib-metadata 7.0.1\n",
            "    Uninstalling importlib-metadata-7.0.1:\n",
            "      Successfully uninstalled importlib-metadata-7.0.1\n",
            "\u001b[31mERROR: pip's dependency resolver does not currently take into account all the packages that are installed. This behaviour is the source of the following dependency conflicts.\n",
            "lida 0.0.10 requires kaleido, which is not installed.\n",
            "lida 0.0.10 requires python-multipart, which is not installed.\u001b[0m\u001b[31m\n",
            "\u001b[0mSuccessfully installed asgiref-3.7.2 backoff-2.2.1 bcrypt-4.1.2 chroma-hnswlib-0.7.3 chromadb-0.4.22 coloredlogs-15.0.1 dataclasses-json-0.6.4 deprecated-1.2.14 fastapi-0.109.2 h11-0.14.0 httptools-0.6.1 humanfriendly-10.0 importlib-metadata-6.11.0 jsonpatch-1.33 jsonpointer-2.4 kubernetes-29.0.0 langchain-0.1.5 langchain-community-0.0.19 langchain-core-0.1.21 langsmith-0.0.87 marshmallow-3.20.2 mmh3-4.1.0 monotonic-1.6 mypy-extensions-1.0.0 onnxruntime-1.17.0 opentelemetry-api-1.22.0 opentelemetry-exporter-otlp-proto-common-1.22.0 opentelemetry-exporter-otlp-proto-grpc-1.22.0 opentelemetry-instrumentation-0.43b0 opentelemetry-instrumentation-asgi-0.43b0 opentelemetry-instrumentation-fastapi-0.43b0 opentelemetry-proto-1.22.0 opentelemetry-sdk-1.22.0 opentelemetry-semantic-conventions-0.43b0 opentelemetry-util-http-0.43b0 overrides-7.7.0 posthog-3.4.0 pulsar-client-3.4.0 pypika-0.48.9 python-dotenv-1.0.1 sentence-transformers-2.3.1 starlette-0.36.3 typing-inspect-0.9.0 uvicorn-0.27.0.post1 uvloop-0.19.0 watchfiles-0.21.0 websockets-12.0\n"
          ]
        }
      ],
      "source": [
        "!pip install langchain sentence-transformers chromadb"
      ]
    },
    {
      "cell_type": "code",
      "source": [
        "from langchain.document_loaders import WebBaseLoader\n",
        "from langchain.text_splitter import RecursiveCharacterTextSplitter\n",
        "from langchain.embeddings import HuggingFaceInferenceAPIEmbeddings\n",
        "from langchain.vectorstores import Chroma\n",
        "\n",
        "from langchain.llms import HuggingFaceHub\n",
        "from langchain.chains import RetrievalQA"
      ],
      "metadata": {
        "id": "rDeGyQ2KGXHF"
      },
      "execution_count": 7,
      "outputs": []
    },
    {
      "cell_type": "code",
      "source": [
        "import os\n",
        "from getpass import getpass\n",
        "\n",
        "HF_token =getpass()\n"
      ],
      "metadata": {
        "id": "QJuohJsLG9Ya",
        "colab": {
          "base_uri": "https://localhost:8080/"
        },
        "outputId": "b8586bc8-24c4-46fb-bc07-05dd3a6de073"
      },
      "execution_count": 8,
      "outputs": [
        {
          "name": "stdout",
          "output_type": "stream",
          "text": [
            "··········\n"
          ]
        }
      ]
    },
    {
      "cell_type": "code",
      "source": [
        "os.environ['HUGGINGFACEHUB_API_TOKEN'] = HF_token"
      ],
      "metadata": {
        "id": "a7vXELpLH-2w"
      },
      "execution_count": 9,
      "outputs": []
    },
    {
      "cell_type": "code",
      "source": [
        "URL=\"https://www.cisco.com/c/en/us/products/collateral/routers/8000-series-routers/datasheet-c78-742571.html\""
      ],
      "metadata": {
        "id": "iIXvS2kaIHoZ"
      },
      "execution_count": 10,
      "outputs": []
    },
    {
      "cell_type": "code",
      "source": [
        "data=WebBaseLoader(URL)"
      ],
      "metadata": {
        "id": "F365jMb-IXDf"
      },
      "execution_count": 11,
      "outputs": []
    },
    {
      "cell_type": "code",
      "source": [
        "content = data.load()"
      ],
      "metadata": {
        "id": "RxLnODiDI_VH"
      },
      "execution_count": 12,
      "outputs": []
    },
    {
      "cell_type": "code",
      "source": [
        "print(content)"
      ],
      "metadata": {
        "colab": {
          "base_uri": "https://localhost:8080/"
        },
        "id": "0ZEZBMUIJDu3",
        "outputId": "3b3dd224-7094-4187-b467-85f797da89a9"
      },
      "execution_count": 13,
      "outputs": [
        {
          "output_type": "stream",
          "name": "stdout",
          "text": [
            "[Document(page_content='\\n\\n\\n\\n\\n\\n\\n\\n\\n\\n\\n\\n\\n\\n\\n\\nCisco 8000 Series Routers Data Sheet - Cisco\\n\\n\\n\\n\\n\\n\\n\\n\\n\\n\\n\\n\\n\\n\\n\\n\\n\\n\\n\\n\\n\\n\\n\\n\\n\\n\\n\\n\\n\\n\\n\\n\\n\\n\\n\\n\\n\\n\\n\\n\\n\\n\\n\\n\\n\\n\\n\\n\\n\\n\\n\\n\\n\\nSkip to content\\nSkip to search\\nSkip to footer\\n\\n\\n\\n\\n\\n\\nCisco.com Worldwide\\nProducts and Services\\nSolutions\\nSupport\\nLearn\\nExplore Cisco\\nHow to Buy\\nPartners Home\\nPartner Program\\nSupport\\nTools\\nFind a Cisco Partner\\nMeet our Partners\\nBecome a Cisco Partner\\n\\n\\n\\n\\n\\n\\n\\n\\nProducts & ServicesRoutersCisco 8000 Series RoutersData Sheets\\n\\n\\n\\nCisco 8000 Series Routers Data Sheet\\n\\n\\n\\n\\n\\n\\nData Sheet\\n\\n\\n\\n\\n\\n\\n\\n\\n\\n\\n\\nSave\\n\\n\\n\\nLog in to Save Content\\n    \\n\\n\\n\\n\\n\\nTranslations\\n\\n\\n\\n\\nDownload\\nPrint\\n\\n\\n\\n\\n\\nAvailable Languages\\n\\n\\n\\n\\n\\nDownload Options\\n\\n\\n\\nPDF\\n(747.4 KB)\\n\\nView with Adobe Reader on a variety of devices\\n\\n\\n\\n\\n\\n\\n\\nUpdated:February 6, 2024\\n\\n\\n\\n\\n\\n\\n\\nBias-Free Language\\n\\n\\n\\nBias-Free Language\\nThe documentation set for this product strives to use bias-free language. For the purposes of this documentation set, bias-free is defined as language that does not imply discrimination based on age, disability, gender, racial identity, ethnic identity, sexual orientation, socioeconomic status, and intersectionality. Exceptions may be present in the documentation due to language that is hardcoded in the user interfaces of the product software, language used based on RFP documentation, or language that is used by a referenced third-party product. Learn more about how Cisco is using Inclusive Language.\\n\\n\\n\\n\\n\\n\\n\\n\\n\\n\\n\\n\\n\\n\\n\\n\\n\\n\\n\\n\\n\\n\\n\\n\\n\\n\\n\\n\\n\\n\\n\\nContact Cisco\\n\\n\\n\\nContact Cisco\\n\\n\\n\\n\\n\\n\\n\\n\\n\\n\\n\\n\\n\\n\\n\\n\\n\\n\\n\\n\\n\\n\\nGet a call from Sales\\n\\n\\n\\n\\n\\n\\n\\n            \\n                Call Sales:\\n            \\n            \\n                \\n                \\n                    \\n                        \\n                            \\n                            1-800-553-6387\\n                            \\n                        \\n\\n            \\n\\n            \\n\\n            \\n\\n            \\n\\n            \\n\\n            \\n\\n            \\n\\n            \\n\\n            \\n\\n            \\n                US/CAN | 5am-5pm PT\\n            \\n        \\n\\n\\n\\n\\n\\n\\nProduct / Technical Support\\n\\n\\n\\n\\n\\n\\n\\nTraining & Certification\\n\\n\\n\\n\\n\\n\\n\\n\\n\\n\\n\\n\\n\\n\\n\\n\\n\\n\\n\\n\\n\\n\\n\\n\\n\\n\\n\\n\\n\\n\\n\\n\\n\\n\\nSave with Cisco 400G coherent pluggable optics.\\n\\nSave on coherent optics\\n\\n\\n\\n\\n\\n\\n\\n\\n\\n\\n\\nSave\\n\\n\\n\\nLog in to Save Content\\n    \\n\\n\\n\\n\\n\\nTranslations\\n\\n\\n\\n\\nDownload\\nPrint\\n\\n\\n\\n\\n\\nAvailable Languages\\n\\n\\n\\n\\n\\nDownload Options\\n\\n\\n\\nPDF\\n(747.4 KB)\\n\\nView with Adobe Reader on a variety of devices\\n\\n\\n\\n\\n\\n\\n\\nUpdated:February 6, 2024\\n\\n\\n\\n\\n\\n\\n\\n\\n\\n\\n\\n\\n\\n\\nTable of Contents\\n Cisco 8000 Series\\nCisco 8000 Series hardware\\nSilicon innovation with the Cisco Silicon One ASIC\\nSystem design innovation\\nCisco 8100 Series\\nCisco 8200 Series\\nCisco 8800 Series\\nCisco 8800 Series line cards\\nCisco 8800 Series switch fabric\\nCisco 8800 Series Route Processor\\nSecurity\\nCisco IOS XR software\\nOrdering overview\\nPhysical characteristics\\nCompliance\\nAdditional features\\u202f\\nWarranty\\nProduct sustainability\\nCisco Smart Licensing\\nCisco Capital\\nFor more information\\nDocument history\\n\\n\\n\\n\\n\\n\\n\\n\\n\\r\\n        \\xa0\\r\\n        \\r\\n    \\n\\n\\n\\n\\n\\n\\n\\n\\n\\n\\n\\xa0\\nCisco 8000 Series\\n\\n\\n     Figure 1. \\n    \\xa0\\xa0\\xa0\\xa0\\xa0\\xa0\\xa0\\xa0\\xa0\\xa0\\xa0\\xa0 \\xa0 \\n   \\nCisco 8000 Series routers\\nHigh-performance networking systems have historically been divided into routing or switching classes, with distinct hardware and software. Over time, this distinction has become less pronounced. This convergence has occurred with the evolution of feature-rich switching chips and routing chips that balance traditional Service Provider (SP)–class capabilities with many benefits of switching Application-Specific Integrated Circuits (ASICs). \\nCisco® 8000 Series routers complete this journey. They deliver provider-class routing functionality at unmatched density, performance, and power. This enables Cisco 8000 Series to be deployed into an unprecedented range of routing roles – all supported with a single ASIC architecture and operating system – thus streamlining qualification, deployment, and operations. \\nThe Cisco 8000 Series combines the revolutionary Cisco Silicon One™, IOS XR® software, and a set of clean sheet chassis to deliver a breakthrough in high-performance routers. The 8000 Series comprises a full range of feature-rich, highly scalable, deep-buffered, on-chip High Bandwidth Memory (HBM) and 400 Gigabit Ethernet (GbE)-optimized routers ranging from 10.8 to 25.6 Tbps in a 1 RU footprint. It is also available in an industry leading, rack-mountable modular system capable of 518.4 Tbps of full-duplex, line rate forwarding. \\nThe Cisco 8000 Series includes three distinct router architectures that utilize the Cisco Silicon One ASICs: distributed/modular, centralized, and fixed. Only the distributed/modular (8800 series) and fixed (8100/8200 series) architectures will be covered in this datasheet. Learn more about centralized router architecture here. \\nThe Cisco 8100 and 8200 Series utilize Cisco’s Router-on-Chip (RoC) architecture to deliver full routing functionality with a single ASIC per router. Both support the full routing feature set, but the 8200 has deep buffers and expanded forwarding tables, while the 8100 Series is targeted for data center applications with lower buffering and forwarding table scale requirements. \\nThe RoC architecture is distinguished from System-on-Chip (SoC) switches by supporting large forwarding tables, deep buffers, more flexible packet operations, and enhanced programmability. The Cisco 8100 and 8200 provide up to 25.6 Tbps of network bandwidth with lower power than similar systems.\\nCisco 8000 Series hardware\\nThe 8000 Series includes routers in both fixed and modular form factors to address a broad range of bandwidth needs and facility requirements.\\nTable 1.\\xa0\\xa0\\xa0\\xa0\\xa0\\xa0\\xa0\\xa0\\xa0\\xa0 Cisco 8100 and 8200 Series fixed chassis options\\n\\n\\n\\n\\n Fixed Chassis  \\n Bandwidth  \\n Height  \\n Ports  \\n Memory Options  \\n\\n\\n\\n\\n Cisco 8101-32H-O \\n 3.2 Tbps  \\n 1 RU  \\n 32 QSFP28 100GbE  \\n No HBM \\n\\n\\n Cisco 8102-64H-O \\n 6.4 Tbps  \\n 2 RU  \\n 64QSFP28 100GbE  \\n No HBM  \\n\\n\\n Cisco 8101-32FH-O \\n 12.8 Tbps  \\n 1 RU  \\n 32QSFP56-DD 400 GbE  \\n No HBM  \\n\\n\\n Cisco 8111-32EH-O \\n 25.6 Tbps  \\n 1 RU  \\n 32 800G (2x 400GbE QSFP-DD800)  \\n No HBM  \\n\\n\\n Cisco 8201-SYS \\n 10.8 Tbps  \\n 1 RU  \\n 24 QSFP56-DD 400GbE and 12 QSFP28  100GbE  \\n With HBM  \\n\\n\\n Cisco 8202-SYS \\n 10.8 Tbps  \\n 2 RU  \\n 12 QSFP56-DD 400GbE and 60 QSFP28  100GbE  \\n With HBM  \\n\\n\\n Cisco 8201-24H8FH  \\n 5.6 Tbps  \\n 1 RU  \\n 8 QSFP56-DD 400GbE and 24 QSFP28 100GbE  \\n With HBM  \\n\\n\\n Cisco 8201-32FH/ 8201-32FH-O  \\n 12.8 Tbps  \\n 1 RU  \\n 32 QSFP56-DD 400GbE  \\n With HBM  \\n\\n\\n Cisco 8202-32FH-M  \\n 12.8 Tbps  \\n 2 RU  \\n 32 QSFP56-DD 400GbE with MACsec  \\n With HBM  \\n\\n\\n\\n\\nTable 2.\\xa0\\xa0\\xa0\\xa0\\xa0\\xa0\\xa0\\xa0\\xa0\\xa0 Cisco 8800 Series modular chassis options\\n\\n\\n\\n\\n Modular Chassis  \\n Bandwidth  \\n Height  \\n Supported Line Cards on All Chassis  \\n\\n\\n\\n\\n Cisco 8804 \\n 115.2 Tbps \\n 4 slots/10 RU \\n 48 QSFP28 100 GbE with MACsec 34 QSFP28 100 GbE and 14 QSFP56-DD 400 GbE 36 QSFP56-DD 400 GbE 36 QSFP56-DD 400 GbE with MACsec 36 QSFP-DD800 800 G \\n\\n\\n Cisco 8808 \\n 230.4 Tbps \\n 8 slots/16 RU \\n\\n\\n Cisco 8812 \\n 345.6 Tbps \\n 12 slots/21 RU \\n\\n\\n Cisco 8818 \\n 518.4 Tbps \\n 18 slots/33 RU \\n\\n\\n\\n\\nSilicon innovation with the Cisco Silicon One ASIC\\nCisco Silicon One is the first routing silicon architecture to break through the 10-Tbps benchmark for network bandwidth. This is accomplished without sacrificing route capacity, packet-per-second forwarding performance, or feature flexibility. The first-generation Q100 ASIC delivers 10.8 Tbps of throughput in 16-nm process technology, while the second-generation Q200 ASIC increases the performance to 12.8 Tbps in 7-nm process technology and now the new P100 ASIC pushes the performance even further to 19.2Tbps in 7-nm technology. Q100, Q200 and P100 ASICs deliver high-scale routing and deep buffering that typically require off-chip memories. In case of external memories, data path bandwidth is reduced due to frequent memory access. The Cisco Silicon One architecture achieves high-performance and full routing capabilities without external memories. This is enabled by the clean-sheet internal architecture that includes an on-chip High Bandwidth Memory (HBM). HBM provides a significant increase in performance while lowering power consumption. It is located on the chip package and connects to the Cisco Silicon One ASIC via an ultra-fast silicon interface. HBM is used to increase the scale of the forwarding table. G100 ASIC with 25.6Tbps performance does not use HBM and it is optimized for certain applications such as Top of Rack (ToR), leaf, spine, etc. in Data Centers and large scale AI/ML (Artificial Intelligence/ Machine Learning) networks.\\nThe Cisco Silicon One architecture supports multiple modes of operation. It can function as an RoC, a line card network processor, and a switch fabric element. This flexibility enables consistent software in multiple roles and rapid silicon evolution. \\nSystem design innovation\\nSupporting the 8000 Series capabilities demanded a wide range of new approaches to platform design. By leveraging over 25 years of high-performance system design, Cisco has delivered unprecedented capacity without compromising forwarding performance or requiring oversubscription. This required new power supplies, a redesigned cooling architecture, and future-proof connectors. \\nThe Cisco 8100 and 8200 Series routers required extensive innovation like consolidation of multiple components into a single ASIC to support high densities. Cisco Silicon One brings the capabilities of multiple chips into one single device, greatly increasing the power efficiency of the solution. As with all modern networking devices the power density of the ASIC creates a challenging thermal problem. In addition, 400GbE optics require up to six times the power of 100GbE QSFP28 modules. These challenges are addressed via advanced system design, including state-of-the-art fans and heat sinks, and QSFP-DD modular optics. \\nThe 8800 chassis utilize a state-of-the-art orthogonal direct design with advanced cooling, high power capacity and new power supplies. The chassis and all data path components for the 8800 Series benefit from a clean-sheet design that allows the systems to take full advantage of the latest technologies and Cisco’s design expertise. This design connects all forwarding path components directly without a backplane or midplane. In the 8800 Series, the line cards are oriented horizontally, and the eight fabric cards are oriented vertically. Every major component of the 8800 Series was developed with a clean sheet approach – representing unprecedented investment and commitment to a long lifecycle for the 8000 Series. \\nThe 8800 chassis deliver significant improvements over previous orthogonal chassis, including: \\n●\\xa0\\xa0\\xa0\\xa0 State-of-the-art redundant fans \\n●\\xa0\\xa0\\xa0\\xa0 Network Equipment Building System (NEBS)–compliant air filters with doors for simplified line card access \\n●\\xa0\\xa0\\xa0\\xa0 Future-proof power capacity with power-saving internal distribution \\n●\\xa0\\xa0\\xa0\\xa0 New power supplies for power feed redundancy with reduced provisioning \\n●\\xa0\\xa0\\xa0\\xa0 Cable management for up to 864 fibers\\nCisco 8100 Series\\n\\n\\n     Figure 2. \\n    \\xa0\\xa0\\xa0\\xa0\\xa0\\xa0\\xa0\\xa0\\xa0\\xa0\\xa0\\xa0 \\xa0 \\n   \\nCisco 8101-32H-O\\n\\n\\n     Figure 3. \\n    \\xa0\\xa0\\xa0\\xa0\\xa0\\xa0\\xa0\\xa0\\xa0\\xa0\\xa0\\xa0 \\xa0 \\n   \\nCisco 8102-64H-O\\n\\n\\n     Figure 4. \\n    \\xa0\\xa0\\xa0\\xa0\\xa0\\xa0\\xa0\\xa0\\xa0\\xa0\\xa0\\xa0 \\xa0 \\n   \\nCisco 8101-32FH-O\\n\\n\\n     Figure 5. \\n    \\xa0\\xa0\\xa0\\xa0\\xa0\\xa0\\xa0\\xa0\\xa0\\xa0\\xa0\\xa0 \\xa0 \\n   \\nCisco 8111-32EH-O\\nThe Cisco 8100 Series extends the small footprint, low power, and high performance of the 8000 Series to data center fabric roles that do not require the expanded forwarding scale and deep buffering of the 8200 Series. \\nThe 8100 Series designed with Cisco’s Q200 and G100 generation ASICs and without HBM delivers the low power and high performance of 7nm technology at four bandwidth levels – 3.2 Tbps, 6.4 Tbps, 12.8 Tbps and 25.6 Tbps so the latest silicon developments can be fully leveraged across data center networks in roles such as Top of Rack (ToR), high-density IP Fabric leaf and spines. \\nThe Cisco 8100 Series offers four different variants: Cisco 8101-32H-O with 32 ports of 100GbE in a compact 1RU form factor, Cisco 8102-64H-O with 64 ports of 100GbE in a 2RU from factor, Cisco 8101-32FH-O with 32 ports of 400GbE in a compact 1RU form factor and Cisco 8111-32EH-O with 32 ports of 800G or 64 ports of 400GbE with breakout cable in a compact 1RU form factor.\\nThe 8100 Series supports the open-source network operating system SONiC (Software for Open Networking in the Cloud).\\nCisco 8200 Series\\n\\n\\n     Figure 6. \\n    \\xa0\\xa0\\xa0\\xa0\\xa0\\xa0\\xa0\\xa0\\xa0\\xa0\\xa0\\xa0 \\xa0 \\n   \\nCisco 8201-SYS\\n\\n\\n     Figure 7. \\n    \\xa0\\xa0\\xa0\\xa0\\xa0\\xa0\\xa0\\xa0\\xa0\\xa0\\xa0\\xa0 \\xa0 \\n   \\nCisco 8202-SYS\\n\\n\\n     Figure 8. \\n    \\xa0\\xa0\\xa0\\xa0\\xa0\\xa0\\xa0\\xa0\\xa0\\xa0\\xa0\\xa0 \\xa0 \\n   \\nCisco 8201-32FH/ 8201-32FH-O\\n\\n\\n     Figure 9. \\n    \\xa0\\xa0\\xa0\\xa0\\xa0\\xa0\\xa0\\xa0\\xa0\\xa0\\xa0\\xa0 \\xa0 \\n   \\nCisco 8201-24H8FH\\n\\n\\nFigure 10. \\xa0\\xa0\\xa0\\xa0\\xa0\\xa0\\xa0\\xa0 \\n\\xa0\\n\\nCisco 8202-32FH-M\\nThe Cisco 8200 Series is designed for roles requiring higher scale and external deep buffers. To achieve similar routed bandwidth and scale, other industry routers require multiple devices such as off-chip Ternary Content-Addressable Memory (TCAMs), fabric ASICs, and multiple network processors. However, the Cisco 8200 Series routers use a simple single ASIC (with HBM) design without the need for off-chip TCAM. \\nThe 8200 Series 1 and 2 RU footprints allow them to be deployed in locations that traditionally required much larger chassis and special accommodations for power and cooling. Provisioning up to 12.8 Tbps in the most efficient 100G/400G-generation chassis requires over seven times the space. The 8200 Series provides tens of milliseconds of buffering and supports large forwarding tables. The ability to deploy a full-featured router into power- and space-constrained facilities such as colocation, Content Delivery Networks (CDNs), Internet \\nExchange Points (IXPs), or older central office sites opens new possibilities for network designs. The 8200 Series with its large buffer and scale capacity is most suitable for roles such as aggregation, peering, core, and Data Center Interconnects (DCIs). \\nThe Cisco 8200 Series offers five different variants: Cisco 8201-SYS with 24 ports of 400GbE and 12 ports of 100GbE in a compact 1RU form factor, Cisco 8202-SYS with 60 ports of 100GbE and 12 ports of 400GbE in a 2RU from factor, Cisco 8201-24H8FH with 24 ports of 100GbE and 8 ports of 400GbE in a compact 1RU form factor, Cisco 8201-32FH with 32 ports of 400GbE in a compact 1RU form factor and Cisco 8202-32FH-M with 32 ports of 400GbE with MACsec in a 2RU form factor. \\nThe 8200 Series supports both IOS XR software on all 8200 and the open-source network operating system SONiC (Software for Open Networking in the Cloud) on 8201-32FH-O.\\nCisco 8800 Series\\n\\n\\n     Figure 11. \\n    \\xa0\\xa0\\xa0\\xa0\\xa0\\xa0\\xa0\\xa0 \\xa0 \\n   \\nCisco 8800 4-, 8-, 12-, and 18-slot modular chassis\\nWith up to 518.4 Tbps via 648 800G (2x 400GbE) ports, the Cisco 8800 Series delivers industry leading breakthrough density and efficiency with the extensive scale, buffering, and feature capabilities common to all the Cisco 8000 Series of routers. It includes four chassis – the 8804, 8808, 8812, and 8818 – to meet a broad set of network and facility requirements. \\nIn addition to reducing per-port power relative to previous generations, the Cisco 8800 Series enables even greater savings by reducing the number of routers required in a given location – potentially removing entire layers from a network. This results in a significant reduction in the total number of router port and optics, one of the top contributors to network costs.\\nCisco 8800 Series line cards\\nThe Cisco 8800 Series modular platform supports six different 100GbE, 400GbE, and 800G line cards. The line cards utilize multiple Cisco Silicon One forwarding ASICs to achieve high performance and bandwidth with line rate forwarding. All ports on all six-line cards support different breakout options for 200 GbE, 100GbE, 50GbE, 40GbE, and 10GbE.\\nTable 3.\\xa0\\xa0\\xa0\\xa0\\xa0\\xa0\\xa0\\xa0\\xa0\\xa0 Cisco 8800 Series line card options\\n\\n\\n\\n\\n Line Cards \\n Bandwidth \\n Silicon \\n 100GbE Ports  \\n 400GbE Ports \\n 800G Ports (2x 400GbE)  \\n MACsec \\n\\n\\n\\n\\n 8800-LC-48H  \\n 4.8 Tbps  \\n Q100  \\n 48  \\n - \\n - \\n Yes \\n\\n\\n 88-LC0-34H14FH \\n 9 Tbps \\n Q200 \\n 34 \\n 14 \\n - \\n 16x 100GbE ports \\n\\n\\n 8800-LC-36FH \\n 14.4 Tbps \\n Q100 \\n - \\n 36 \\n - \\n No \\n\\n\\n 88-LC0-36FH \\n 14.4 Tbps \\n Q200 \\n - \\n 36 \\n - \\n No \\n\\n\\n 88-LC0-36FH-M \\n 14.4 Tbps \\n Q200 \\n - \\n 36 \\n - \\n Yes \\n\\n\\n 88-LC1-36EH  \\n 28.8 Tbps  \\n P100  \\n -  \\n -  \\n 36 \\n No  \\n\\n\\n\\n\\nThere are six different line cards supported on all 8800 modular chassis. \\nThe 48-port QSFP28 100GbE line card provides 4.8 Tbps of throughput with MACsec support on all ports. It also supports QSFP+ optics for 10G and 40G compatibility.\\n\\n\\n     Figure 12. \\n    \\xa0\\xa0\\xa0\\xa0\\xa0\\xa0\\xa0\\xa0 \\xa0 \\n   \\n48-port QSFP28 100GbE line card\\nThe two variants of 36-port QSFP56-DD 400GbE line cards are based on Q100 and Q200 silicon chips. Each line card provides 14.4 Tbps via 36 QSFP56-DD front-panel ports.\\n\\n\\n     Figure 13. \\n    \\xa0\\xa0\\xa0\\xa0\\xa0\\xa0\\xa0\\xa0 \\xa0 \\n   \\n36-port QSFP56-DD 400GbE line card\\nThere is also a Q200-based, MACsec-capable, 36-port QSFP56-DD 400GbE line card that provides 14.4 Tbps of throughput with line rate MACsec on all ports.\\n\\n\\n     Figure 14. \\n    \\xa0\\xa0\\xa0\\xa0\\xa0\\xa0\\xa0\\xa0 \\xa0 \\n   \\n36-port QSFP56-DD 400GbE line card with MACsec\\nThe 36-port QSFP-DD800 800G line card provides 28.8 Tbps of throughput. Each 800G port can be used as 2x400GbE ethernet or 8x100GbE ethernet.\\n\\n\\n     Figure 15. \\n    \\xa0\\xa0\\xa0\\xa0\\xa0\\xa0\\xa0\\xa0 \\xa0 \\n   \\n36-port QSFP-DD800 800G line card\\nIn addition, there is a combo card that provides 34 - QSFP28 ports and 14 - QSFP56-DD ports. It offers customers the ability to smoothly transition from 100G to 400G. For additional flexibility, this card supports MACsec on 16 of the 100GbE ports.\\n\\n\\n     Figure 16. \\n    \\xa0\\xa0\\xa0\\xa0\\xa0\\xa0\\xa0\\xa0 \\xa0 \\n   \\n34 – port QSFP28 100GbE and 14 – port QSFP56-DD 400GbE\\nCisco 8800 Series switch fabric\\nThe Cisco 8800 Series switch fabric is powered by 8 fabric cards that provide 7+1 line rate redundancy. In addition, the fabric supports a separate operational model with 4+1 fabric card redundancy to provide an entry level option for systems with only the 48-port 100GbE line card. This mode reduces cost and power for networks that want to take advantage of the latest platforms but are not yet ready to broadly deploy 400GbE.\\n\\n\\n     Figure 17. \\n    \\xa0\\xa0\\xa0\\xa0\\xa0\\xa0\\xa0\\xa0 \\xa0 \\n   \\nCisco 8800 fabric card\\nCisco 8800 Series Route Processor\\nThe Route Processor (RP) runs the Cisco network operating system – IOS XR. It manages control plane, management, and timing synchronization functions for the 8000 modular platforms. In addition, the RP performs route processing and distributes forwarding tables to the line cards. It also controls fans, alarms, and power supplies using an I2C communication link to each fan tray and power supply. The RP supports 1+1 redundancy; there can be two Route Processor cards in the modular system in active and hot standby modes. The standby RP takes over all control functions in the case of active RP failure.\\nTable 4.\\xa0\\xa0\\xa0\\xa0\\xa0\\xa0\\xa0\\xa0\\xa0\\xa0 Cisco 8800 Series Route Processor options\\n\\n\\n\\n\\n Route Processor \\n 8800-RP \\n 8800-RP2 \\n\\n\\n\\n\\n Processor \\n Intel 4-core @ 2.4 GHz \\n Intel 8-core @ 2.7 GHz \\n\\n\\n System Memory \\n 32GB DRAM \\n 64GB DRAM \\n\\n\\n SSD Storage \\n 128GB \\n 256GB \\n\\n\\n RS-232 Serial Ports \\n 1 \\n 1 \\n\\n\\n Management Ports \\n 1 (RJ45)+1 SFP+ (1/10G) \\n 1 (RJ45)+2 SFP+ (1/10G) \\n\\n\\n USB 2.0 Ports \\n 2 \\n 1 \\n\\n\\n USB 3.0 Ports \\n 0 \\n 1 \\n\\n\\n Timing/Ports \\n Class B, SyncE, 1588 TOD, 1PPS, 10MHz \\n Class C, SyncE, 1588 TOD, 1PPS, 10MHz, GNSS \\n\\n\\n Size (HxWxL) \\n 2.61x22.37x8.05 \\n 2.61x22.37x8.05 \\n\\n\\n Weight \\n 6 lbs \\n 6 lbs \\n\\n\\n Chassis Support \\n 8804, 8808, 8812, 8818 \\n 8804, 8808, 8812, 8818 \\n\\n\\n\\n\\nSecurity\\nSecurity is a major concern for all Cisco customers. Attacks on networking equipment can have disastrous results. Network operators need assurance that their equipment is secure and running authorized Cisco software. Cisco 8000 Series routers support hardware root of trust based on the Trusted Computing Group (TCG) and IEEE 802.1 AR standards. This approach is far more reliable than a software-based security approach. All Cisco 8200 routers are FIPS 140-2 Level 2 compliant and support advance security features to ensure platform and OS integrity.\\n●\\xa0\\xa0\\xa0\\xa0 Cisco secures the supply chain of every system at manufacturing time. A technology called “Chip Protection” allows customers to be assured that the hardware they receive from Cisco has no counterfeit components. This is accomplished with the use of unique identifiers that are stored inside the Trusted Anchor Module (TAM) device as a way to identify and track components through the entire lifecycle of the Cisco 8000. The checks cover all major components, including network processors, CPUs, and Field-Programmable Gate Arrays (FPGAs). \\n●\\xa0\\xa0\\xa0\\xa0 Every image that a customer downloads from the Cisco site is cryptographically signed using Cisco private keys. Each platform has a TAM (based on the TCG standard) that uses built-in cryptographic functions to validate the image signature. Once the signature is validated, the software is considered authentic and is ready for install. \\n●\\xa0\\xa0\\xa0\\xa0 During normal operation, the JTAG (Joint Test Action Group – a method of chip testing and verification) ports on chips are monitored. JTAG is one of the most common attack surfaces and therefore must be secured. Cisco uses a technology called “Secure JTAG” to monitor the port. If any illegal activity is detected, it is flagged and the system CPU is held in reset mode. \\n●\\xa0\\xa0\\xa0\\xa0 Secure Boot root of trust is anchored in the TAM. It establishes an authentication chain in which each software module authenticates the next module in the boot process.\\nCisco IOS XR software\\nCisco IOS XR7 is a unified network OS spanning access, aggregation, edge, and core. The networking protocol stack within XR7 can be cut down by two-thirds when the IP transport architecture is simplified. Improvements to XR7 internal architecture have reduced the memory footprint by 35 percent. By reducing code size and the resources required, XR7 can be installed onto even the most constrained hardware designs with full security features without impact to boot times. \\nModernizing XR7 with install procedures using standard Linux software package managers has also improved operations. Instead of “one-size-fits-all,” XR7 provides modularity, so customers only load what they will use. \\nService providers can easily access new software packages from trusted Cisco Red Hat Package Manager (RPM) repositories. Alternatively, they can build their own repository of both Cisco and custom software packages, which can be fetched for final system configuration without spending time trying to sort out software dependencies. All the required Cisco software packages, home-grown/third-party software packages, and router configurations can be pulled into a single Cisco software image known as a “Golden ISO.” Customized images can now be installed consistently and with confidence across devices in the network.\\nCisco IOS XR7 brings an unmatched level of openness for programmability and customization.\\nIOS XR 7 supports open, model-driven APIs at all layers of the software stack. At the management layer, XR supports a comprehensive list of both native and industry-driven OpenConfig models with multiple encoding (XML and JSON) and transport (gRPC, Netconf) options. The APIs at the management layer allow operators to apply configuration to the device or retrieve the state of the system. The APIs also address advanced traffic engineering use cases, allowing applications to control the route followed by traffic within the network. These APIs can be used independently or combined with other ecosystem abstraction layers such as SONIC or P4Runtime. \\nIOS XR 7 also supports the OFA (Open Forwarding Abstraction) API, which provides a logical representation of all the forwarding and telemetry capabilities of the underlying hardware. In addition, IOS XR 7 provides a flexible consumption model, allowing third-party application software to run on the device alongside IOS XR to enable customization options for the customer network. With application hosting capabilities, operators can host their own controller agent or custom protocol; use various hosting apps for telemetry collection, traffic engineering, and configuration management; or manage the box like a Linux machine using third-party software such as Chef, Puppet, or Ansible. \\nCisco IOS XR 7 is the industry’s most trusted network operating system.\\nXR7 is the most advanced network operating system for improving the security posture of the router. The Cisco Secure Boot subsystem ensures that the device boot image is genuine and untampered. With advanced signing technology, XR7 can establish software integrity enforcement and measurement. To further enhance the trusted defense posture, multiple runtime defenses within XR7 guard against malicious actors and make exploitation of bugs more difficult. Even if booted securely, a router may run for months or years without rebooting, which could leave vulnerabilities at runtime undetected for a long time. XR7 leverages Integrated Measurement Architecture (IMA) to significantly enhance security by verifying the integrity of running software. In the IMA appraisal mode, signature validations prevent unauthorized images to launch. In the IMA measurement mode, the hashes of all images are logged in a secure location used for verification. Records of run time processes can be sent for analysis, so the operator knows that system software, updates, or patches are running as intended.\\nDetailed information on XR7 can be found here: IOS XR Data Sheet. \\nFor a complete list of supported features, refer to the Cisco Feature Navigator.\\nOrdering overview\\nThe high-level hardware components are listed below. For full ordering information, refer to the ordering documentation.\\nTable 5.\\xa0\\xa0\\xa0\\xa0\\xa0\\xa0\\xa0\\xa0\\xa0\\xa0 Cisco 8000 Series ordering overview\\n\\n\\n\\n\\n Part Number \\n Description  \\n\\n\\n\\n\\n 8101-32H-O  \\n Cisco 8100 1 RU Chassis with 32x100GbE QSFP28 with Open Software and without HBM \\n\\n\\n 8102-64H-O  \\n Cisco 8100 2 RU Chassis with 64x100GbE QSFP28 with Open Software and without HBM \\n\\n\\n 8101-32FH-O  \\n Cisco 8100 1 RU Chassis with 32x400GbE QSFP56-DD with Open Software and without HBM \\n\\n\\n 8111-32EH-O  \\n Cisco 8100 1 RU Chassis with 32x800G or 64x400GbE QSFP-DD800 with Open Software and without HBM \\n\\n\\n 8201-SYS  \\n Cisco 8200 1 RU Chassis with 24x400GbE QSFP56-DD and 12x100GbE QSFP28 with IOS XR \\n\\n\\n 8202-SYS  \\n Cisco 8200 2 RU Chassis with 12x400GbE QSFP56-DD and 60x100GbE QSFP28 with IOS XR \\n\\n\\n 8201-24H8FH  \\n Cisco 8200 1 RU Chassis with 8x400GbE QSFP56-DD and 24x100GbE QSFP28 with IOS XR \\n\\n\\n 8201-32FH \\n Cisco 8200 1 RU Chassis with 32x400GbE QSFP56-DD with IOS XR and HBM \\n\\n\\n 8202-32FH-M \\n Cisco 8200 2 RU Chassis with 32x400GbE QSFP56-DD MACsec with IOS XR and HBM \\n\\n\\n 8201-32FH-O \\n Cisco 8200 1 RU Chassis with 32x400GbE QSFP56-DD with Open Software and HBM \\n\\n\\n 8804-SYS \\n Cisco 8808 4-slot System \\n\\n\\n 8808-SYS \\n Cisco 8808 8-slot System \\n\\n\\n 8812-SYS \\n Cisco 8812 12-slot System \\n\\n\\n 8818-SYS \\n Cisco 8818 18-slot System \\n\\n\\n 8800-LC-48H \\n Cisco 8800 48x100GbE QSFP28 Line Card based on Q100 Silicon with 56Gb Serdes  \\n\\n\\n 88-LC0-34H14FH \\n Cisco 8800 34x100GbE QSFP28 and 14x400GbE QSFP56-DD Line Card based on Q200 Silicon with 56Gb Serdes  \\n\\n\\n 8800-LC-36FH \\n Cisco 8800 36x400GbE QSFP56-DD Line Card based on Q100 Silicon with 56Gb Serdes  \\n\\n\\n 88-LC0-36FH \\n Cisco 8800 36x400GbE QSFP56-DD Line Card based on Q200 Silicon with 56Gb Serdes  \\n\\n\\n 88-LC0-36FH-M \\n Cisco 8800 36x400GbE QSFP56-DD Line Card with MACsec based on Q200 Silicon with 56Gb Serdes  \\n\\n\\n 88-LC1-36EH  \\n Cisco 8800 36x800G QSFP-DD800 Line Card based on P100 Silicon with 112Gb Serdes  \\n\\n\\n 8800-RP \\n Cisco 8800 Route Processor with 4x Core CPU \\n\\n\\n 8800-RP2 \\n Cisco 8800 Route Processor with 8x Core CPU \\n\\n\\n 8818-FC \\n Cisco 8818 Fabric Card based on Q100 Silicon with 56Gb Serdes  \\n\\n\\n 8812-FC \\n Cisco 8812 Fabric Card based on Q100 Silicon with 56Gb Serdes  \\n\\n\\n 8808-FC \\n Cisco 8808 Fabric Card based on Q100 Silicon with 56Gb Serdes  \\n\\n\\n 8818-FC0 \\n Cisco 8818 Fabric Card based on Q200 Silicon with 56Gb Serdes  \\n\\n\\n 8808-FC0  \\n Cisco 8808 Fabric Card based on Q200 Silicon with 56Gb Serdes  \\n\\n\\n 8804-FC0  \\n Cisco 8804 Fabric Card based on Q200 Silicon with 56Gb Serdes  \\n\\n\\n\\n\\nPhysical characteristics\\nTable 6.\\xa0\\xa0\\xa0\\xa0\\xa0\\xa0\\xa0\\xa0\\xa0\\xa0 Cisco 8000 Series physical characteristics\\n\\n\\n\\n\\n Series or Model \\n Physical Characteristics \\n\\n\\n\\n\\n Cisco 8000 Series \\n Operating temperature: 32 to 104°F (0 to 40°C) Nonoperating temperature: -40 to 158°F (-40 to 70°C) Humidity: 5% to 95% (noncondensing) Altitude: 0 to 9842 ft (0 to 3000 m)  \\n\\n\\n 8101-32H-O \\n Intel Broadwell 4-core 2.4 GHz CPU with 16 GB of DRAM. RS-232 console, 10GbE Control Plane expansion, 1GbE Management, 1x USB2.0, GBP (ToD, 10MHz, 1PPS), 1588, and BITs (sync). (H) 1.73 x (W) 17.3 x (D) 19.34 in. (4.40 x 43.9 x 49.1 cm) – 1 RU 22.7 lbs (10.32 kg) Typical system power at 3.2 Tbps: 172W 2 power supplies, 5 Fans \\n\\n\\n 8102-64H-O \\n Intel Broadwell 4-core 2.4 GHz CPU with 16 GB of DRAM. RS-232 console, 10GbE Control Plane expansion, 1GbE Management, 1x USB2.0, GBP (ToD, 10MHz, 1PPS), 1588, and BITs (sync). (H) 3.45 x (W) 17.3 x (D) 20.1 in. (8.77 x 43.9 x 51.1 cm) – 2 RU 35 lbs (16 kg) Typical system power at 6.4 Tbps: 256W 2 power supplies, 3 Fans \\n\\n\\n 8101-32FH-O  \\n Intel Broadwell 4-core 2.4 GHz CPU with 32 GB of DRAM. RS-232 console, 10GbE Control Plane expansion, 1GbE Management, 1x USB2.0, GBP (ToD, 10MHz, 1PPS), 1588, and BITs (sync). (H) 1.73 x (W) 17.3 x (D) 23.6 in. (4.40 x 43.9 x 59.9 cm) – 1 RU 31 lbs (14.09 kg) Typical system power at 12.8 Tbps: 288W 2 power supplies, 6 Fans \\n\\n\\n 8111-32EH-O \\n Intel Broadwell 4-core 2.4 GHz CPU with 32 GB of DRAM. RS-232 console, 10GbE Control Plane expansion, 1GbE Management, 1x USB2.0, GBP (ToD, 10MHz, 1PPS), 1588, and BITs (sync).  (H) 1.73 x (W) 17.3 x (D) 23.6 in. (4.40 x 43.9 x 59.9 cm) – 1 RU 25 lbs (11.34 kg)  Typical system power at 25.6 Tbps: 715W 2 power supplies, 6 Fans \\n\\n\\n Cisco 8201-SYS \\n Intel Broadwell 4-core 2.4 GHz CPU with 32 GB of DRAM. RS-232 console, 10GbE Control Plane expansion, 1GbE Management, 1x USB2.0, GBP (ToD, 10MHz, 1PPS), 1588, and BITs (sync). (H) 1.73 x (W) 17.3 x (D) 20.1 in. (4.40 x 43.9 x 51.1 cm) – 1 RU 24 lbs (10.9 kg) Typical system power at 10.8 Tbps: 415 W 2 power supplies, 5 Fans  \\n\\n\\n Cisco 8202-SYS \\n Intel Broadwell 4-core 2.4 GHz CPU with 32 GB of DRAM. RS-232 console, 10GbE Control Plane expansion, 1GbE Management, 1x USB2.0, GBP (ToD, 10MHz, 1PPS), 1588, and BITs (sync). (H) 3.45 x (W) 17.3 x (D) 20.1 in. (8.77 x 43.9 x 51.1 cm) – 2 RU 42 lbs (19 kg) Typical system power at 10.8 Tbps: 750 W 2 power supplies, 3 Fans and Optional air filter \\n\\n\\n 8201-24H8FH  \\n Intel Broadwell 4-core 2.4 GHz CPU with 32 GB of DRAM. RS-232 console, 10GbE Control Plane expansion, 1GbE Management, 1x USB2.0, GBP (ToD, 10MHz, 1PPS), 1588, and BITs (sync). (H) 1.73 x (W) 17.3 x (D) 23.6 in. (4.40 x 43.9 x 59.9 cm) – 1 RU 31 lbs (14.09 kg) Typical system power at 5.6 Tbps: 205W 2 power supplies, 6 Fans \\n\\n\\n 8201-32FH/ 8201-32FH-O \\n Intel Broadwell 4-core 2.4 GHz CPU with 32 GB of DRAM. RS-232 console, 10GbE Control Plane expansion, 1GbE Management, 1x USB2.0, GBP (ToD, 10MHz, 1PPS), 1588, and BITs (sync). (H) 1.73 x (W) 17.3 x (D) 23.6 in. (4.40 x 43.9 x 59.9 cm) – 1 RU 31 lbs (14.09 kg) Typical system power at 12.8 Tbps: 288W 2 power supplies, 6 Fans \\n\\n\\n 8202-32FH-M  \\n Intel Broadwell 4-core 2.4 GHz CPU with 64 GB of DRAM. RS-232 console, 10GbE Control Plane expansion, 1GbE Management, 1x USB2.0, GBP (ToD, 10MHz, 1PPS), 1588, and BITs (sync). (H) 3.45 x (W) 17.3 x (D) 23.6 in. (8.77 x 43.9 x 59.9 cm) – 2 RU 50.25 lbs (22.8 kg) Typical system power at 12.8 Tbps: 575W 2 power supplies, 4 Fans and Optional air filter \\n\\n\\n Cisco 8800 Series  \\n 2 route processors Cable management, doors, and air filters 6.3 KW power supply for AC and high-voltage DC (180 to 305V AC, 192 to 200V DC) 4.4 KW power supply for 48V 60A DC (-40 to -75V DC) 4.8 KW power supply for 48V 100A DC (-40 to -75V DC) Horizontal line cards with 8 vertical fabric cards and 4 fan trays Rack mountable in standard 19-in. (48.3-cm) rack \\n\\n\\n Cisco 8804  \\n (H) 17.5 x (W) 17.45 x (D) 33 in. (44.45 x 44.32 x 83.82 cm) – 10 RU – 4 line cards Depth with cable management, filter, and doors: 39.88 in. (101.3 cm) Weight: Unloaded, 124 lbs (56.36 kg); fully loaded, 402 lbs (183 kg) Typical system power at 57.6 Tbps: 4.2 KW; at 115.2 Tbps: TBD  6 high-voltage power supplies or 8 48V DC power supplies \\n\\n\\n Cisco 8808  \\n (H) 28 x (W) 17.45 x (D) 33.73 in. (71.12 x 44.32 x 85.7 cm) – 16 RU – 8 line cards Depth with cable management, filter, and doors: 41.18 in. (104.6 cm) Weight: Unloaded, 162 lbs (73 kg); fully loaded, 658 lbs (299 kg) Typical system power at 115.2 Tbps: 9.3 KW; at 230.3 TBps: TBD 9 high-voltage power supplies or 12 48V DC power supplies \\n\\n\\n Cisco 8812  \\n (H) 36.75 x (W) 17.45 x (D) 35.43 in. (93.345 x 44.23 x 90 cm) – 21 RU – 12 line cards Depth with cable management, filter, and doors: 41.55 in. (105.5 cm) Weight: Unloaded, 212 lbs (96 kg); fully loaded, 891 lbs (404 kg) Typical system power at 172.8 Tbps: 16.3 KW; at 345.6Tbps: TBD  9 high-voltage power supplies or 12 48V DC power supplies \\n\\n\\n Cisco 8818  \\n (H) 57.75 x (W) 17.45 x (D) 35.43 in. (146.7 x 44.23 x 90 cm) – 33 RU – 18 line cards Depth with cable management, filter, and doors: 41.55 in. (105.5 cm) Weight: Unloaded, 283 lbs (128 kg); fully loaded, 1357 lbs (615 kg) Typical system power at 259.2 Tbps: 22 KW; at 518.4 Tbps: TBD  18 high-voltage power supplies or 24 48V DC power supplies  \\n\\n\\n\\n\\nCompliance\\nTable 7.\\xa0\\xa0\\xa0\\xa0\\xa0\\xa0\\xa0\\xa0\\xa0\\xa0 Compliance\\n\\n\\n\\n\\n Specification  \\n Description  \\n\\n\\n\\n\\n Regulatory Compliance  \\n Products should comply with CE Markings according to directives 2004/108/EC and 2006/95/EC  \\n\\n\\n Safety  \\n UL 60950 1 Second Edition  CAN/CSA C22.2 No. 60950 1 Second Edition  EN 60950 1 Second Edition  IEC 60950 1 Second Edition  AS/NZS 60950 1  GB4943  \\n\\n\\n EMC: Emissions  \\n 47 CFR Part 15 (CFR 47) Class A  AS/NZS CISPR22 Class A  CISPR22 Class A  EN55022 Class A  ICES003 Class A  VCCI Class A  EN61000 3 2  EN61000 3 3  KN32 Class A  CNS13438 Class A  \\n\\n\\n EMC: Immunity \\n EN55024  CISPR24  EN300386  KN 61000 4 Series  \\n\\n\\n RoHS  \\n The product is RoHS 6 compliant with exceptions for leaded Ball Grid Array (BGA) balls and lead press fit connectors.  \\n\\n\\n\\n\\nAdditional features\\u202f\\nThe 8000 Series Routers also support the Cisco DDoS Edge Protection solution.\\u202f\\nAdd leading DDoS protection directly to the 8000 Series Routers to detect and block DDoS attacks on-box cost-effectively at aggregation and peering locations.\\u202f \\nCisco DDoS Edge Protection is supported on the following platforms: \\nFixed Platforms:\\n●\\xa0\\xa0\\xa0\\xa0 Cisco 8111-32EH \\n●\\xa0\\xa0\\xa0\\xa0 Cisco 8101-32FH \\n●\\xa0\\xa0\\xa0\\xa0 Cisco 8102-64H \\n●\\xa0\\xa0\\xa0\\xa0 Cisco 8101-32H \\n●\\xa0\\xa0\\xa0\\xa0 Cisco 8201-32FH \\n●\\xa0\\xa0\\xa0\\xa0 Cisco 8201-24H8FH \\n●\\xa0\\xa0\\xa0\\xa0 Cisco 8202-32FH-M \\n●\\xa0\\xa0\\xa0\\xa0 Cisco 8201-SYS \\n●\\xa0\\xa0\\xa0\\xa0 Cisco 8202-SYS \\nDistributed Platforms:\\n●\\xa0\\xa0\\xa0\\xa0 Cisco 8804\\n●\\xa0\\xa0\\xa0\\xa0 Cisco 8808\\n●\\xa0\\xa0\\xa0\\xa0 Cisco 8812\\n●\\xa0\\xa0\\xa0\\xa0 Cisco 8818\\nLine Cards:\\n●\\xa0\\xa0\\xa0\\xa0 8800-LC-48H\\n●\\xa0\\xa0\\xa0\\xa0 8800-LC-36FH\\n●\\xa0\\xa0\\xa0\\xa0 88-LC0-36FH-M\\n●\\xa0\\xa0\\xa0\\xa0 88-LC0-36FH\\n●\\xa0\\xa0\\xa0\\xa0 88-LC0-34H14FH\\nLearn more about the Cisco DDoS Edge Protection solution.\\u202f\\nWarranty\\nService and support\\nAccelerate your deployment, performance, maintenance, and ROI for your Cisco 8000 Series-based infrastructure with Cisco Services offering a variety of options to assist you across the lifecycle. \\nCisco Advanced Services use an architecture-led approach to help you align your network infrastructure with your business goals and achieve long-term value. \\nNext, we can help you maintain continuity and minimize risk with Cisco Service Provider Base, Smart Net Total Care® and Cisco Software Support Basic. So when minutes matter, you can get help fast for your Network Open Architecture with 24/7 access to our expert hardware and software support engineers in the Cisco Technical Assistance Center.\\nProduct sustainability\\nInformation about Cisco’s Environmental, Social and Governance (ESG) initiatives and performance is provided in Cisco’s CSR and sustainability reporting.\\nTable 8.\\xa0\\xa0\\xa0\\xa0\\xa0\\xa0\\xa0\\xa0\\xa0\\xa0 Product sustainability\\n\\n\\n\\n\\n Sustainability Topic \\n Reference \\n\\n\\n\\n\\n General \\n Information on product-material-content laws and regulations \\n Materials  \\n\\n\\n Information on electronic waste laws and regulations, including our products, batteries and packaging \\n WEEE Compliance  \\n\\n\\n Information on product takeback and reuse program \\n Cisco Takeback and Reuse Program  \\n\\n\\n Sustainability Inquiries \\n Contact: csr_inquiries@cisco.com  \\n\\n\\n Material \\n Product packaging weight and materials \\n Contact: environment@cisco.com  \\n\\n\\n\\n\\nCisco Smart Licensing\\nCisco Smart Licensing is a flexible and secure licensing model that provides you with an easier, faster, and more consistent way to purchase, activate, manage, renew, and upgrade software products across the Cisco portfolio and across your organization. And it’s secure – you control what users can access. With Smart Licensing you get:\\n●\\xa0\\xa0\\xa0\\xa0 Easy Activation. Smart Licensing establishes a pool of software licenses that can be used across the entire organization—no more PAKs (Product Activation Keys). \\n●\\xa0\\xa0\\xa0\\xa0 Unified Management. My Cisco Entitlements (MCE) provides a complete view into all of your Cisco products and services in an easy-to-use portal, so you always know what you have and what you are using. \\n●\\xa0\\xa0\\xa0\\xa0 License Flexibility. Your software is not node-locked to your hardware, so you can easily use and transfer licenses as needed. \\nIn order to retrieve your Smart Licenses, you will first need to set up a Smart Account on Cisco Software Central (software.cisco.com).\\nFor a more detailed overview on Cisco Licensing, go to cisco.com/go/licensingguide.\\nCisco Capital\\nFlexible payment solutions to help you achieve your objectives. \\nCisco Capital makes it easier to get the right technology to achieve your objectives, enable business transformation and help you stay competitive. We can help you reduce the total cost of ownership, conserve capital, and accelerate growth. In more than 100 countries, our flexible payment solutions can help you acquire hardware, software, services and complementary third-party equipment in easy, predictable payments. Learn more. \\nFor more information\\nLearn more about the Cisco 8000 Series routers\\nDocument history\\n\\n\\n\\n\\n New or revised topic \\n Described In \\n Date \\n\\n\\n\\n\\n Added DDoS Edge Protection and 8800 Route Processor updates \\n Additional features, 8800 Route Processor description, 8800-RP and new 8800-RP2 spec \\n January 8, 2024 \\n\\n\\n Updated 88-LC1-36EH line card and 800G ports column \\n Cisco 8800 Series line card section \\n March 2023 \\n\\n\\n Updated Bandwidth and CPU for8000 Series \\n Cisco 8000 Series hardware and Physical characteristics sections \\n March 2023 \\n\\n\\n Updated SerDes information \\n Cisco 8000 Series ordering overview \\n March 2023 \\n\\n\\n Added models 8111-32EH-O, 8201-24H8FH, and 8202-32FH-M \\n Hardware Description, Ordering Overview, Physical Characteristics \\n June 29, 2022 \\n\\n\\n Updated weights for 8804, 8808, 8812, 8818 \\n Physical Characteristics \\n July 16, 2021 \\n\\n\\n Added section on Cisco Smart Licensing \\n Cisco Smart Licensing \\n July 16, 2021 \\n\\n\\n\\n\\n\\xa0\\n\\xa0\\n\\xa0\\n\\n\\n\\n\\n\\n\\n\\n\\n\\n\\n\\n\\n\\n\\n\\nOur experts recommend\\n\\nA Trustworthy Framework for Cisco 8000 Series Routers\\nCisco 8000 Series Router At-a-Glance\\n\\n\\n\\nLearn more\\n\\n\\n\\n\\n\\n\\n\\n\\n\\n\\n\\n\\n\\n\\n\\n\\n\\n\\n\\n\\n\\n\\n\\n\\n\\n\\n\\n\\n\\n\\n', metadata={'source': 'https://www.cisco.com/c/en/us/products/collateral/routers/8000-series-routers/datasheet-c78-742571.html', 'title': 'Cisco 8000 Series Routers Data Sheet - Cisco', 'description': 'This data sheet describes the benefits, specifications, and ordering information for the Cisco 8000 Series Routers', 'language': 'en'})]\n"
          ]
        }
      ]
    },
    {
      "cell_type": "markdown",
      "source": [
        "# **Chunking - Text Splitter**"
      ],
      "metadata": {
        "id": "O8-H3Ad2JXfI"
      }
    },
    {
      "cell_type": "code",
      "source": [
        "text_splitter = RecursiveCharacterTextSplitter(chunk_size=256, chunk_overlap=50)"
      ],
      "metadata": {
        "id": "4koh4MbJJq_Q"
      },
      "execution_count": 14,
      "outputs": []
    },
    {
      "cell_type": "code",
      "source": [
        "chunking = text_splitter.split_documents(content)"
      ],
      "metadata": {
        "id": "0KW0yCxAJ3Vo"
      },
      "execution_count": 22,
      "outputs": []
    },
    {
      "cell_type": "code",
      "source": [
        "len(chunking)"
      ],
      "metadata": {
        "colab": {
          "base_uri": "https://localhost:8080/"
        },
        "id": "8Rn2GhptJ9KK",
        "outputId": "1c75e0a8-7657-4ca6-bc0c-fc5c2d9aa5b6"
      },
      "execution_count": 23,
      "outputs": [
        {
          "output_type": "execute_result",
          "data": {
            "text/plain": [
              "226"
            ]
          },
          "metadata": {},
          "execution_count": 23
        }
      ]
    },
    {
      "cell_type": "code",
      "source": [
        "chunking[2]"
      ],
      "metadata": {
        "colab": {
          "base_uri": "https://localhost:8080/"
        },
        "id": "1XdtWqbaKFzG",
        "outputId": "90e48534-4d43-432b-9260-416dc5a03685"
      },
      "execution_count": 24,
      "outputs": [
        {
          "output_type": "execute_result",
          "data": {
            "text/plain": [
              "Document(page_content='Products & ServicesRoutersCisco 8000 Series RoutersData Sheets\\n\\n\\n\\nCisco 8000 Series Routers Data Sheet\\n\\n\\n\\n\\n\\n\\nData Sheet\\n\\n\\n\\n\\n\\n\\n\\n\\n\\n\\n\\nSave\\n\\n\\n\\nLog in to Save Content\\n    \\n\\n\\n\\n\\n\\nTranslations\\n\\n\\n\\n\\nDownload\\nPrint\\n\\n\\n\\n\\n\\nAvailable Languages\\n\\n\\n\\n\\n\\nDownload Options', metadata={'source': 'https://www.cisco.com/c/en/us/products/collateral/routers/8000-series-routers/datasheet-c78-742571.html', 'title': 'Cisco 8000 Series Routers Data Sheet - Cisco', 'description': 'This data sheet describes the benefits, specifications, and ordering information for the Cisco 8000 Series Routers', 'language': 'en'})"
            ]
          },
          "metadata": {},
          "execution_count": 24
        }
      ]
    },
    {
      "cell_type": "code",
      "source": [
        "chunking[3]"
      ],
      "metadata": {
        "colab": {
          "base_uri": "https://localhost:8080/"
        },
        "id": "tsWxg8Q-KU8U",
        "outputId": "3ba27e36-34d5-4584-a265-d59a49066a67"
      },
      "execution_count": 25,
      "outputs": [
        {
          "output_type": "execute_result",
          "data": {
            "text/plain": [
              "Document(page_content='PDF\\n(747.4 KB)\\n\\nView with Adobe Reader on a variety of devices\\n\\n\\n\\n\\n\\n\\n\\nUpdated:February 6, 2024\\n\\n\\n\\n\\n\\n\\n\\nBias-Free Language', metadata={'source': 'https://www.cisco.com/c/en/us/products/collateral/routers/8000-series-routers/datasheet-c78-742571.html', 'title': 'Cisco 8000 Series Routers Data Sheet - Cisco', 'description': 'This data sheet describes the benefits, specifications, and ordering information for the Cisco 8000 Series Routers', 'language': 'en'})"
            ]
          },
          "metadata": {},
          "execution_count": 25
        }
      ]
    },
    {
      "cell_type": "markdown",
      "source": [
        "# **Embedding Model**"
      ],
      "metadata": {
        "id": "kKMfOO1AWRUF"
      }
    },
    {
      "cell_type": "code",
      "source": [
        "embeddings = HuggingFaceInferenceAPIEmbeddings(\n",
        "    api_key = HF_token,model_name=\"BAAI/bge-base-en-v1.5\"\n",
        ")"
      ],
      "metadata": {
        "id": "iv64WbXeWUlr"
      },
      "execution_count": 27,
      "outputs": []
    },
    {
      "cell_type": "code",
      "source": [
        "vectorstore = Chroma.from_documents(chunking, embeddings)"
      ],
      "metadata": {
        "id": "booMwOtAW9Yv"
      },
      "execution_count": 29,
      "outputs": []
    },
    {
      "cell_type": "code",
      "source": [
        "model = HuggingFaceHub(repo_id='HuggingFaceH4/zephyr-7b-alpha', model_kwargs={\"temperature\":0.5, \"max_new_tokens\":512, \"max_length\":64})"
      ],
      "metadata": {
        "id": "V7iOWp6MX0ol"
      },
      "execution_count": 30,
      "outputs": []
    },
    {
      "cell_type": "markdown",
      "source": [
        "## Step 1: Retrieval"
      ],
      "metadata": {
        "id": "3n9R1SsPZxD4"
      }
    },
    {
      "cell_type": "code",
      "source": [
        "retriever = vectorstore.as_retriever(search_type=\"mmr\", search_kwargs={\"k\":1})"
      ],
      "metadata": {
        "id": "AKLLHhGsYU7l"
      },
      "execution_count": 31,
      "outputs": []
    },
    {
      "cell_type": "code",
      "source": [
        "query = \"How many power supplies does 8800 have?\""
      ],
      "metadata": {
        "id": "kKXcUig-Yra8"
      },
      "execution_count": 32,
      "outputs": []
    },
    {
      "cell_type": "code",
      "source": [
        "docs_rel = retriever.get_relevant_documents(query)"
      ],
      "metadata": {
        "id": "L5XfIdDLYx3k"
      },
      "execution_count": 33,
      "outputs": []
    },
    {
      "cell_type": "markdown",
      "source": [
        "## Step-2 - Augment\n",
        "\n",
        "Prompt"
      ],
      "metadata": {
        "id": "sa9fppYSaDVO"
      }
    },
    {
      "cell_type": "code",
      "source": [
        "prompt = f\"\"\"\n",
        "<|system|>\n",
        "You are an AI Assistant that follows intructions extremely well.\n",
        "Please be truthful and give direct answers\n",
        "</s>\n",
        "<|user|>\n",
        "{query}\n",
        "</s>\n",
        "<|assistant|>\n",
        "\n",
        "\"\"\""
      ],
      "metadata": {
        "id": "1lnq0VqKaIc3"
      },
      "execution_count": 45,
      "outputs": []
    },
    {
      "cell_type": "markdown",
      "source": [
        "## Step-3 - Generation"
      ],
      "metadata": {
        "id": "jRlRNlsxZ-Bs"
      }
    },
    {
      "cell_type": "code",
      "source": [
        "docs_rel"
      ],
      "metadata": {
        "colab": {
          "base_uri": "https://localhost:8080/"
        },
        "id": "-jwfxjRYY7JV",
        "outputId": "9504dc08-1669-4440-e86b-20e5e2777ef8"
      },
      "execution_count": 46,
      "outputs": [
        {
          "output_type": "execute_result",
          "data": {
            "text/plain": [
              "[Document(page_content='(14.09 kg) Typical system power at 12.8 Tbps: 288W 2 power supplies, 6 Fans', metadata={'description': 'This data sheet describes the benefits, specifications, and ordering information for the Cisco 8000 Series Routers', 'language': 'en', 'source': 'https://www.cisco.com/c/en/us/products/collateral/routers/8000-series-routers/datasheet-c78-742571.html', 'title': 'Cisco 8000 Series Routers Data Sheet - Cisco'})]"
            ]
          },
          "metadata": {},
          "execution_count": 46
        }
      ]
    },
    {
      "cell_type": "code",
      "source": [
        "qa=RetrievalQA.from_chain_type(llm=model,retriever=retriever,chain_type=\"stuff\")"
      ],
      "metadata": {
        "id": "LF6gw7ZPZYLD"
      },
      "execution_count": 47,
      "outputs": []
    },
    {
      "cell_type": "code",
      "source": [
        "response=qa.invoke(prompt)"
      ],
      "metadata": {
        "id": "avZYYKBpauIx"
      },
      "execution_count": 48,
      "outputs": []
    },
    {
      "cell_type": "code",
      "source": [
        "print(response['result'])"
      ],
      "metadata": {
        "colab": {
          "base_uri": "https://localhost:8080/"
        },
        "id": "mD6zI71PbA3V",
        "outputId": "3da48e9e-511e-4420-9cf1-bdc837778334"
      },
      "execution_count": 49,
      "outputs": [
        {
          "output_type": "stream",
          "name": "stdout",
          "text": [
            "Use the following pieces of context to answer the question at the end. If you don't know the answer, just say that you don't know, don't try to make up an answer.\n",
            "\n",
            "(14.09 kg) Typical system power at 12.8 Tbps: 288W 2 power supplies, 6 Fans\n",
            "\n",
            "Question: \n",
            "<|system|>\n",
            "You are an AI Assistant that follows intructions extremely well. \n",
            "Please be truthful and give direct answers\n",
            "</s>\n",
            "<|user|>\n",
            "How many power supplies does 8800 have?\n",
            "</s>\n",
            "<|assistant|>\n",
            "\n",
            "\n",
            "Helpful Answer:\n",
            "\n",
            "I don't have any specific context or information about the 8800 device you're referring to. please provide me with more context or details so that i can assist you better.\n",
            "\n",
            "if you're referring to a computer system, the number of power supplies it has depends on the configuration. typically, desktop computers have 1 or 2 power supplies, while server systems may have more than 1 power supply to handle the increased power requirements. however, if you provide me with the specific model of the 8800 device, i can help you determine the number of power supplies it has.\n"
          ]
        }
      ]
    }
  ]
}